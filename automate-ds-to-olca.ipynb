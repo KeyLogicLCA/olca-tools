{
 "cells": [
  {
   "cell_type": "markdown",
   "id": "33a3b2dd-433d-443c-a061-94bc8f4339b1",
   "metadata": {},
   "source": [
    "# Automated DS to openLCA - Single Process"
   ]
  },
  {
   "cell_type": "markdown",
   "id": "6f8fed67-3baf-4f8b-a849-b365cbbee774",
   "metadata": {},
   "source": [
    "Notebook to import our first unit process (DS_O_Cement_with_Optional_Capture_2023.03.xlsx)"
   ]
  },
  {
   "cell_type": "code",
   "execution_count": null,
   "id": "fb91eac7-c118-4a12-bd40-5abb607a008f",
   "metadata": {},
   "outputs": [],
   "source": [
    "import logging\n",
    "\n",
    "from dsdf_to_olca import *"
   ]
  },
  {
   "cell_type": "markdown",
   "id": "6f7dc940-aa3e-4410-b91e-8a42424dcfce",
   "metadata": {},
   "source": [
    "Pull DS/DF URLs from the web (or a locally saved file of URLs).\n",
    "For this example, we look at the first DS file, 'DS_O_Cement_with_Optional_Capture_2023.03.xlsx'."
   ]
  },
  {
   "cell_type": "code",
   "execution_count": 2,
   "id": "9895b34f-7057-401b-b5ce-a52db19a282a",
   "metadata": {},
   "outputs": [
    {
     "data": {
      "text/plain": [
       "'https://netl.doe.gov/projects/VueConnection/download.aspx?id=b293514c-6833-4909-90fb-cef9c7551d7b&filename=DS_O_Cement_with_Optional_Capture_2023.03.xlsx'"
      ]
     },
     "execution_count": 2,
     "metadata": {},
     "output_type": "execute_result"
    }
   ],
   "source": [
    "up_urls = get_up_urls()\n",
    "my_url = up_urls[0]\n",
    "my_url"
   ]
  },
  {
   "cell_type": "markdown",
   "id": "789d3b46-3d75-4107-bdd1-e85ae9dba381",
   "metadata": {},
   "source": [
    "Download the DS file from the web, or retrieve it locally."
   ]
  },
  {
   "cell_type": "code",
   "execution_count": 3,
   "id": "1aca5141-290c-4bf5-8e29-99a3dd507052",
   "metadata": {
    "scrolled": true
   },
   "outputs": [
    {
     "data": {
      "text/plain": [
       "'DS_O_Cement_with_Optional_Capture_2023.03.xlsx'"
      ]
     },
     "execution_count": 3,
     "metadata": {},
     "output_type": "execute_result"
    }
   ],
   "source": [
    "ds_file = get_file_from_url(my_url)\n",
    "ds_file"
   ]
  },
  {
   "cell_type": "markdown",
   "id": "e577f7e2-1fbb-4041-88c0-eda262b64a4e",
   "metadata": {},
   "source": [
    "Create a connection with openLCA via the IPC service (defaults to port 8080).\n",
    "Scrape relevant metadata and flow information from the DS file and use it to generate a new Process.\n",
    "Add the new process to the openLCA database."
   ]
  },
  {
   "cell_type": "code",
   "execution_count": null,
   "id": "b00059e0-7ac7-421b-8697-adebd8ea7e2e",
   "metadata": {
    "scrolled": true
   },
   "outputs": [],
   "source": [
    "process_import(ds_file)"
   ]
  },
  {
   "cell_type": "markdown",
   "id": "4aa439d9-8f41-4ff7-abd6-dcac67022f60",
   "metadata": {},
   "source": [
    "# Automated DS to openLCA - Batch Process Linear\n",
    "This will put all processes into a single openLCA database using the IPC service connection."
   ]
  },
  {
   "cell_type": "code",
   "execution_count": null,
   "id": "f13b974e-1e27-49ee-a8c6-64cfb73d5456",
   "metadata": {},
   "outputs": [],
   "source": [
    "import logging\n",
    "import time\n",
    "\n",
    "import olca_schema as o\n",
    "import olca_ipc as olca\n",
    "\n",
    "from dsdf_to_olca import *"
   ]
  },
  {
   "cell_type": "code",
   "execution_count": null,
   "id": "a530c9a5-14cc-42c0-95bf-bf245e5fde1d",
   "metadata": {},
   "outputs": [],
   "source": [
    "# Connect to openLCA via IPC service and get all DS URLs\n",
    "# NOTE: to be replaced/updated with EDX UP Library\n",
    "# https://edx.netl.doe.gov/group/lca-unit-process-library\n",
    "client = olca.Client()\n",
    "up_urls = get_up_urls()"
   ]
  },
  {
   "cell_type": "code",
   "execution_count": null,
   "id": "51197208-b5a4-414a-aca9-46fd805d850e",
   "metadata": {
    "scrolled": true
   },
   "outputs": [],
   "source": [
    "for url in up_urls:\n",
    "    try:\n",
    "        ds_file = get_file_from_url(url)\n",
    "        print(f\"succeeded for {url}\")\n",
    "    except:\n",
    "        print(f\"failed for {url}\")\n",
    "\n",
    "\n",
    "# No failed url gets, for 1058 files..."
   ]
  },
  {
   "cell_type": "code",
   "execution_count": null,
   "id": "cd87d96b-916c-4b3f-816c-2b3b135c4c2a",
   "metadata": {},
   "outputs": [],
   "source": [
    "filenames = [file.split(\"filename=\")[1] for file in up_urls if \"filename=\" in file]\n",
    "filenames"
   ]
  },
  {
   "cell_type": "code",
   "execution_count": null,
   "id": "9d1c7c89-49b5-4152-840a-9ea730e0f68c",
   "metadata": {
    "scrolled": true
   },
   "outputs": [],
   "source": [
    "p = o.Process()\n",
    "\n",
    "# Define range of UPs to import (between 1 and ~700)\n",
    "# NOTE: You can make batches to speed up runtime\n",
    "start = 1\n",
    "end = len(filenames)\n",
    "\n",
    "for ds_count in range(start-1,end):\n",
    "    if ds_count in range(start-1,end):\n",
    "        ds_url = up_urls[ds_count*2]\n",
    "\n",
    "        print(f\"[{ds_count+1}] \"+ ds_url.split(\"filename=\")[1].rsplit(\".xlsx\")[0])\n",
    "\n",
    "        try:\n",
    "            ds_file = get_file_from_url(ds_url)\n",
    "            p = process_import(ds_file)\n",
    "            if p is not None:\n",
    "                print(p.name)\n",
    "        except Exception as e:\n",
    "            print(f'IMPORT FAILED: {e}')\n",
    "            print(ds_file)"
   ]
  },
  {
   "cell_type": "markdown",
   "id": "70ceb954-c111-4f3b-a57a-31e468ee156d",
   "metadata": {},
   "source": [
    "# Automated DS to openLCA - Batch Process Parallel"
   ]
  },
  {
   "cell_type": "code",
   "execution_count": null,
   "id": "99bd13ab-f7ef-4f6b-ba94-e878ca866cf6",
   "metadata": {},
   "outputs": [],
   "source": [
    "import concurrent.futures\n",
    "import time\n",
    "import logging\n",
    "\n",
    "import olca_schema as o\n",
    "import olca_ipc as olca\n",
    "\n",
    "from dsdf_to_olca import *"
   ]
  },
  {
   "cell_type": "code",
   "execution_count": null,
   "id": "28ae28f6-11ba-4546-929a-5f018058d284",
   "metadata": {
    "scrolled": true
   },
   "outputs": [],
   "source": [
    "# Creates an openLCA connection to IPC service\n",
    "# Grabs all the URLs for DS files (`get_urls`)\n",
    "# Runs `process_import` in parallel for all UPs (up to max_workers cores on your CPU)\n",
    "# NOTE: end is greater than count of UPs, so we get them all!\n",
    "process_import_multiprocessing(start=0, end=600, max_workers=8)"
   ]
  },
  {
   "cell_type": "code",
   "execution_count": 46,
   "id": "f04df8b0-42f6-4633-9c57-f0a4100f0dfd",
   "metadata": {},
   "outputs": [],
   "source": []
  },
  {
   "cell_type": "code",
   "execution_count": 1,
   "id": "4f362abd-a69c-46b0-91ee-258f0d80fa67",
   "metadata": {
    "scrolled": true
   },
   "outputs": [
    {
     "name": "stderr",
     "output_type": "stream",
     "text": [
      "/opt/anaconda3/envs/eLCI_updates_101624/lib/python3.12/site-packages/openpyxl/worksheet/header_footer.py:48: UserWarning: Cannot parse header or footer so it will be ignored\n",
      "  warn(\"\"\"Cannot parse header or footer so it will be ignored\"\"\")\n",
      "/opt/anaconda3/envs/eLCI_updates_101624/lib/python3.12/site-packages/openpyxl/worksheet/header_footer.py:48: UserWarning: Cannot parse header or footer so it will be ignored\n",
      "  warn(\"\"\"Cannot parse header or footer so it will be ignored\"\"\")\n",
      "/opt/anaconda3/envs/eLCI_updates_101624/lib/python3.12/site-packages/openpyxl/worksheet/header_footer.py:48: UserWarning: Cannot parse header or footer so it will be ignored\n",
      "  warn(\"\"\"Cannot parse header or footer so it will be ignored\"\"\")\n",
      "/opt/anaconda3/envs/eLCI_updates_101624/lib/python3.12/site-packages/openpyxl/worksheet/header_footer.py:48: UserWarning: Cannot parse header or footer so it will be ignored\n",
      "  warn(\"\"\"Cannot parse header or footer so it will be ignored\"\"\")\n",
      "/opt/anaconda3/envs/eLCI_updates_101624/lib/python3.12/site-packages/openpyxl/worksheet/header_footer.py:48: UserWarning: Cannot parse header or footer so it will be ignored\n",
      "  warn(\"\"\"Cannot parse header or footer so it will be ignored\"\"\")\n",
      "/opt/anaconda3/envs/eLCI_updates_101624/lib/python3.12/site-packages/openpyxl/worksheet/header_footer.py:48: UserWarning: Cannot parse header or footer so it will be ignored\n",
      "  warn(\"\"\"Cannot parse header or footer so it will be ignored\"\"\")\n",
      "/opt/anaconda3/envs/eLCI_updates_101624/lib/python3.12/site-packages/openpyxl/worksheet/header_footer.py:48: UserWarning: Cannot parse header or footer so it will be ignored\n",
      "  warn(\"\"\"Cannot parse header or footer so it will be ignored\"\"\")\n",
      "/opt/anaconda3/envs/eLCI_updates_101624/lib/python3.12/site-packages/openpyxl/worksheet/header_footer.py:48: UserWarning: Cannot parse header or footer so it will be ignored\n",
      "  warn(\"\"\"Cannot parse header or footer so it will be ignored\"\"\")\n",
      "/opt/anaconda3/envs/eLCI_updates_101624/lib/python3.12/site-packages/openpyxl/worksheet/header_footer.py:48: UserWarning: Cannot parse header or footer so it will be ignored\n",
      "  warn(\"\"\"Cannot parse header or footer so it will be ignored\"\"\")\n",
      "/opt/anaconda3/envs/eLCI_updates_101624/lib/python3.12/site-packages/openpyxl/worksheet/header_footer.py:48: UserWarning: Cannot parse header or footer so it will be ignored\n",
      "  warn(\"\"\"Cannot parse header or footer so it will be ignored\"\"\")\n",
      "/opt/anaconda3/envs/eLCI_updates_101624/lib/python3.12/site-packages/openpyxl/worksheet/header_footer.py:48: UserWarning: Cannot parse header or footer so it will be ignored\n",
      "  warn(\"\"\"Cannot parse header or footer so it will be ignored\"\"\")\n",
      "/opt/anaconda3/envs/eLCI_updates_101624/lib/python3.12/site-packages/openpyxl/worksheet/header_footer.py:48: UserWarning: Cannot parse header or footer so it will be ignored\n",
      "  warn(\"\"\"Cannot parse header or footer so it will be ignored\"\"\")\n",
      "/opt/anaconda3/envs/eLCI_updates_101624/lib/python3.12/site-packages/openpyxl/worksheet/header_footer.py:48: UserWarning: Cannot parse header or footer so it will be ignored\n",
      "  warn(\"\"\"Cannot parse header or footer so it will be ignored\"\"\")\n",
      "/opt/anaconda3/envs/eLCI_updates_101624/lib/python3.12/site-packages/openpyxl/worksheet/header_footer.py:48: UserWarning: Cannot parse header or footer so it will be ignored\n",
      "  warn(\"\"\"Cannot parse header or footer so it will be ignored\"\"\")\n",
      "/opt/anaconda3/envs/eLCI_updates_101624/lib/python3.12/site-packages/openpyxl/worksheet/header_footer.py:48: UserWarning: Cannot parse header or footer so it will be ignored\n",
      "  warn(\"\"\"Cannot parse header or footer so it will be ignored\"\"\")\n",
      "/opt/anaconda3/envs/eLCI_updates_101624/lib/python3.12/site-packages/openpyxl/worksheet/header_footer.py:48: UserWarning: Cannot parse header or footer so it will be ignored\n",
      "  warn(\"\"\"Cannot parse header or footer so it will be ignored\"\"\")\n",
      "/opt/anaconda3/envs/eLCI_updates_101624/lib/python3.12/site-packages/openpyxl/worksheet/header_footer.py:48: UserWarning: Cannot parse header or footer so it will be ignored\n",
      "  warn(\"\"\"Cannot parse header or footer so it will be ignored\"\"\")\n",
      "/opt/anaconda3/envs/eLCI_updates_101624/lib/python3.12/site-packages/openpyxl/worksheet/header_footer.py:48: UserWarning: Cannot parse header or footer so it will be ignored\n",
      "  warn(\"\"\"Cannot parse header or footer so it will be ignored\"\"\")\n",
      "/opt/anaconda3/envs/eLCI_updates_101624/lib/python3.12/site-packages/openpyxl/worksheet/header_footer.py:48: UserWarning: Cannot parse header or footer so it will be ignored\n",
      "  warn(\"\"\"Cannot parse header or footer so it will be ignored\"\"\")\n",
      "/opt/anaconda3/envs/eLCI_updates_101624/lib/python3.12/site-packages/openpyxl/worksheet/header_footer.py:48: UserWarning: Cannot parse header or footer so it will be ignored\n",
      "  warn(\"\"\"Cannot parse header or footer so it will be ignored\"\"\")\n",
      "/opt/anaconda3/envs/eLCI_updates_101624/lib/python3.12/site-packages/openpyxl/worksheet/header_footer.py:48: UserWarning: Cannot parse header or footer so it will be ignored\n",
      "  warn(\"\"\"Cannot parse header or footer so it will be ignored\"\"\")\n",
      "/opt/anaconda3/envs/eLCI_updates_101624/lib/python3.12/site-packages/openpyxl/worksheet/header_footer.py:48: UserWarning: Cannot parse header or footer so it will be ignored\n",
      "  warn(\"\"\"Cannot parse header or footer so it will be ignored\"\"\")\n",
      "/opt/anaconda3/envs/eLCI_updates_101624/lib/python3.12/site-packages/openpyxl/worksheet/header_footer.py:48: UserWarning: Cannot parse header or footer so it will be ignored\n",
      "  warn(\"\"\"Cannot parse header or footer so it will be ignored\"\"\")\n",
      "/opt/anaconda3/envs/eLCI_updates_101624/lib/python3.12/site-packages/openpyxl/worksheet/header_footer.py:48: UserWarning: Cannot parse header or footer so it will be ignored\n",
      "  warn(\"\"\"Cannot parse header or footer so it will be ignored\"\"\")\n",
      "/opt/anaconda3/envs/eLCI_updates_101624/lib/python3.12/site-packages/openpyxl/worksheet/header_footer.py:48: UserWarning: Cannot parse header or footer so it will be ignored\n",
      "  warn(\"\"\"Cannot parse header or footer so it will be ignored\"\"\")\n",
      "/opt/anaconda3/envs/eLCI_updates_101624/lib/python3.12/site-packages/openpyxl/worksheet/header_footer.py:48: UserWarning: Cannot parse header or footer so it will be ignored\n",
      "  warn(\"\"\"Cannot parse header or footer so it will be ignored\"\"\")\n",
      "/opt/anaconda3/envs/eLCI_updates_101624/lib/python3.12/site-packages/openpyxl/worksheet/header_footer.py:48: UserWarning: Cannot parse header or footer so it will be ignored\n",
      "  warn(\"\"\"Cannot parse header or footer so it will be ignored\"\"\")\n",
      "/opt/anaconda3/envs/eLCI_updates_101624/lib/python3.12/site-packages/openpyxl/worksheet/header_footer.py:48: UserWarning: Cannot parse header or footer so it will be ignored\n",
      "  warn(\"\"\"Cannot parse header or footer so it will be ignored\"\"\")\n",
      "/opt/anaconda3/envs/eLCI_updates_101624/lib/python3.12/site-packages/openpyxl/worksheet/header_footer.py:48: UserWarning: Cannot parse header or footer so it will be ignored\n",
      "  warn(\"\"\"Cannot parse header or footer so it will be ignored\"\"\")\n",
      "/opt/anaconda3/envs/eLCI_updates_101624/lib/python3.12/site-packages/openpyxl/worksheet/header_footer.py:48: UserWarning: Cannot parse header or footer so it will be ignored\n",
      "  warn(\"\"\"Cannot parse header or footer so it will be ignored\"\"\")\n",
      "/opt/anaconda3/envs/eLCI_updates_101624/lib/python3.12/site-packages/openpyxl/worksheet/header_footer.py:48: UserWarning: Cannot parse header or footer so it will be ignored\n",
      "  warn(\"\"\"Cannot parse header or footer so it will be ignored\"\"\")\n",
      "/opt/anaconda3/envs/eLCI_updates_101624/lib/python3.12/site-packages/openpyxl/worksheet/header_footer.py:48: UserWarning: Cannot parse header or footer so it will be ignored\n",
      "  warn(\"\"\"Cannot parse header or footer so it will be ignored\"\"\")\n",
      "/opt/anaconda3/envs/eLCI_updates_101624/lib/python3.12/site-packages/openpyxl/worksheet/header_footer.py:48: UserWarning: Cannot parse header or footer so it will be ignored\n",
      "  warn(\"\"\"Cannot parse header or footer so it will be ignored\"\"\")\n",
      "/opt/anaconda3/envs/eLCI_updates_101624/lib/python3.12/site-packages/openpyxl/worksheet/header_footer.py:48: UserWarning: Cannot parse header or footer so it will be ignored\n",
      "  warn(\"\"\"Cannot parse header or footer so it will be ignored\"\"\")\n",
      "/opt/anaconda3/envs/eLCI_updates_101624/lib/python3.12/site-packages/openpyxl/worksheet/header_footer.py:48: UserWarning: Cannot parse header or footer so it will be ignored\n",
      "  warn(\"\"\"Cannot parse header or footer so it will be ignored\"\"\")\n",
      "/opt/anaconda3/envs/eLCI_updates_101624/lib/python3.12/site-packages/openpyxl/worksheet/header_footer.py:48: UserWarning: Cannot parse header or footer so it will be ignored\n",
      "  warn(\"\"\"Cannot parse header or footer so it will be ignored\"\"\")\n",
      "/opt/anaconda3/envs/eLCI_updates_101624/lib/python3.12/site-packages/openpyxl/worksheet/header_footer.py:48: UserWarning: Cannot parse header or footer so it will be ignored\n",
      "  warn(\"\"\"Cannot parse header or footer so it will be ignored\"\"\")\n",
      "/opt/anaconda3/envs/eLCI_updates_101624/lib/python3.12/site-packages/openpyxl/worksheet/header_footer.py:48: UserWarning: Cannot parse header or footer so it will be ignored\n",
      "  warn(\"\"\"Cannot parse header or footer so it will be ignored\"\"\")\n",
      "/opt/anaconda3/envs/eLCI_updates_101624/lib/python3.12/site-packages/openpyxl/worksheet/header_footer.py:48: UserWarning: Cannot parse header or footer so it will be ignored\n",
      "  warn(\"\"\"Cannot parse header or footer so it will be ignored\"\"\")\n",
      "/opt/anaconda3/envs/eLCI_updates_101624/lib/python3.12/site-packages/openpyxl/worksheet/_reader.py:329: UserWarning: Unknown extension is not supported and will be removed\n",
      "  warn(msg)\n",
      "/opt/anaconda3/envs/eLCI_updates_101624/lib/python3.12/site-packages/openpyxl/worksheet/header_footer.py:48: UserWarning: Cannot parse header or footer so it will be ignored\n",
      "  warn(\"\"\"Cannot parse header or footer so it will be ignored\"\"\")\n",
      "/opt/anaconda3/envs/eLCI_updates_101624/lib/python3.12/site-packages/openpyxl/worksheet/header_footer.py:48: UserWarning: Cannot parse header or footer so it will be ignored\n",
      "  warn(\"\"\"Cannot parse header or footer so it will be ignored\"\"\")\n",
      "/opt/anaconda3/envs/eLCI_updates_101624/lib/python3.12/site-packages/openpyxl/worksheet/header_footer.py:48: UserWarning: Cannot parse header or footer so it will be ignored\n",
      "  warn(\"\"\"Cannot parse header or footer so it will be ignored\"\"\")\n",
      "/opt/anaconda3/envs/eLCI_updates_101624/lib/python3.12/site-packages/openpyxl/worksheet/header_footer.py:48: UserWarning: Cannot parse header or footer so it will be ignored\n",
      "  warn(\"\"\"Cannot parse header or footer so it will be ignored\"\"\")\n",
      "/opt/anaconda3/envs/eLCI_updates_101624/lib/python3.12/site-packages/openpyxl/worksheet/header_footer.py:48: UserWarning: Cannot parse header or footer so it will be ignored\n",
      "  warn(\"\"\"Cannot parse header or footer so it will be ignored\"\"\")\n",
      "/opt/anaconda3/envs/eLCI_updates_101624/lib/python3.12/site-packages/openpyxl/worksheet/header_footer.py:48: UserWarning: Cannot parse header or footer so it will be ignored\n",
      "  warn(\"\"\"Cannot parse header or footer so it will be ignored\"\"\")\n",
      "/opt/anaconda3/envs/eLCI_updates_101624/lib/python3.12/site-packages/openpyxl/worksheet/header_footer.py:48: UserWarning: Cannot parse header or footer so it will be ignored\n",
      "  warn(\"\"\"Cannot parse header or footer so it will be ignored\"\"\")\n",
      "/opt/anaconda3/envs/eLCI_updates_101624/lib/python3.12/site-packages/openpyxl/worksheet/header_footer.py:48: UserWarning: Cannot parse header or footer so it will be ignored\n",
      "  warn(\"\"\"Cannot parse header or footer so it will be ignored\"\"\")\n",
      "/opt/anaconda3/envs/eLCI_updates_101624/lib/python3.12/site-packages/openpyxl/worksheet/header_footer.py:48: UserWarning: Cannot parse header or footer so it will be ignored\n",
      "  warn(\"\"\"Cannot parse header or footer so it will be ignored\"\"\")\n",
      "/opt/anaconda3/envs/eLCI_updates_101624/lib/python3.12/site-packages/openpyxl/worksheet/header_footer.py:48: UserWarning: Cannot parse header or footer so it will be ignored\n",
      "  warn(\"\"\"Cannot parse header or footer so it will be ignored\"\"\")\n",
      "/opt/anaconda3/envs/eLCI_updates_101624/lib/python3.12/site-packages/openpyxl/worksheet/header_footer.py:48: UserWarning: Cannot parse header or footer so it will be ignored\n",
      "  warn(\"\"\"Cannot parse header or footer so it will be ignored\"\"\")\n",
      "/opt/anaconda3/envs/eLCI_updates_101624/lib/python3.12/site-packages/openpyxl/worksheet/header_footer.py:48: UserWarning: Cannot parse header or footer so it will be ignored\n",
      "  warn(\"\"\"Cannot parse header or footer so it will be ignored\"\"\")\n",
      "/opt/anaconda3/envs/eLCI_updates_101624/lib/python3.12/site-packages/openpyxl/worksheet/header_footer.py:48: UserWarning: Cannot parse header or footer so it will be ignored\n",
      "  warn(\"\"\"Cannot parse header or footer so it will be ignored\"\"\")\n",
      "/opt/anaconda3/envs/eLCI_updates_101624/lib/python3.12/site-packages/openpyxl/worksheet/header_footer.py:48: UserWarning: Cannot parse header or footer so it will be ignored\n",
      "  warn(\"\"\"Cannot parse header or footer so it will be ignored\"\"\")\n",
      "/opt/anaconda3/envs/eLCI_updates_101624/lib/python3.12/site-packages/openpyxl/worksheet/header_footer.py:48: UserWarning: Cannot parse header or footer so it will be ignored\n",
      "  warn(\"\"\"Cannot parse header or footer so it will be ignored\"\"\")\n",
      "/opt/anaconda3/envs/eLCI_updates_101624/lib/python3.12/site-packages/openpyxl/worksheet/header_footer.py:48: UserWarning: Cannot parse header or footer so it will be ignored\n",
      "  warn(\"\"\"Cannot parse header or footer so it will be ignored\"\"\")\n",
      "/opt/anaconda3/envs/eLCI_updates_101624/lib/python3.12/site-packages/openpyxl/worksheet/header_footer.py:48: UserWarning: Cannot parse header or footer so it will be ignored\n",
      "  warn(\"\"\"Cannot parse header or footer so it will be ignored\"\"\")\n",
      "/opt/anaconda3/envs/eLCI_updates_101624/lib/python3.12/site-packages/openpyxl/worksheet/_reader.py:329: UserWarning: Unknown extension is not supported and will be removed\n",
      "  warn(msg)\n",
      "/opt/anaconda3/envs/eLCI_updates_101624/lib/python3.12/site-packages/openpyxl/worksheet/header_footer.py:48: UserWarning: Cannot parse header or footer so it will be ignored\n",
      "  warn(\"\"\"Cannot parse header or footer so it will be ignored\"\"\")\n",
      "/opt/anaconda3/envs/eLCI_updates_101624/lib/python3.12/site-packages/openpyxl/worksheet/_reader.py:329: UserWarning: Unknown extension is not supported and will be removed\n",
      "  warn(msg)\n",
      "/opt/anaconda3/envs/eLCI_updates_101624/lib/python3.12/site-packages/openpyxl/worksheet/header_footer.py:48: UserWarning: Cannot parse header or footer so it will be ignored\n",
      "  warn(\"\"\"Cannot parse header or footer so it will be ignored\"\"\")\n",
      "/opt/anaconda3/envs/eLCI_updates_101624/lib/python3.12/site-packages/openpyxl/worksheet/header_footer.py:48: UserWarning: Cannot parse header or footer so it will be ignored\n",
      "  warn(\"\"\"Cannot parse header or footer so it will be ignored\"\"\")\n",
      "/opt/anaconda3/envs/eLCI_updates_101624/lib/python3.12/site-packages/openpyxl/worksheet/header_footer.py:48: UserWarning: Cannot parse header or footer so it will be ignored\n",
      "  warn(\"\"\"Cannot parse header or footer so it will be ignored\"\"\")\n",
      "/opt/anaconda3/envs/eLCI_updates_101624/lib/python3.12/site-packages/openpyxl/worksheet/header_footer.py:48: UserWarning: Cannot parse header or footer so it will be ignored\n",
      "  warn(\"\"\"Cannot parse header or footer so it will be ignored\"\"\")\n",
      "/opt/anaconda3/envs/eLCI_updates_101624/lib/python3.12/site-packages/openpyxl/worksheet/_reader.py:329: UserWarning: Unknown extension is not supported and will be removed\n",
      "  warn(msg)\n",
      "/opt/anaconda3/envs/eLCI_updates_101624/lib/python3.12/site-packages/openpyxl/worksheet/header_footer.py:48: UserWarning: Cannot parse header or footer so it will be ignored\n",
      "  warn(\"\"\"Cannot parse header or footer so it will be ignored\"\"\")\n",
      "/opt/anaconda3/envs/eLCI_updates_101624/lib/python3.12/site-packages/openpyxl/worksheet/header_footer.py:48: UserWarning: Cannot parse header or footer so it will be ignored\n",
      "  warn(\"\"\"Cannot parse header or footer so it will be ignored\"\"\")\n",
      "/opt/anaconda3/envs/eLCI_updates_101624/lib/python3.12/site-packages/openpyxl/worksheet/header_footer.py:48: UserWarning: Cannot parse header or footer so it will be ignored\n",
      "  warn(\"\"\"Cannot parse header or footer so it will be ignored\"\"\")\n",
      "/opt/anaconda3/envs/eLCI_updates_101624/lib/python3.12/site-packages/openpyxl/worksheet/_reader.py:329: UserWarning: Unknown extension is not supported and will be removed\n",
      "  warn(msg)\n",
      "/opt/anaconda3/envs/eLCI_updates_101624/lib/python3.12/site-packages/openpyxl/worksheet/header_footer.py:48: UserWarning: Cannot parse header or footer so it will be ignored\n",
      "  warn(\"\"\"Cannot parse header or footer so it will be ignored\"\"\")\n",
      "/opt/anaconda3/envs/eLCI_updates_101624/lib/python3.12/site-packages/openpyxl/worksheet/header_footer.py:48: UserWarning: Cannot parse header or footer so it will be ignored\n",
      "  warn(\"\"\"Cannot parse header or footer so it will be ignored\"\"\")\n",
      "/opt/anaconda3/envs/eLCI_updates_101624/lib/python3.12/site-packages/openpyxl/worksheet/header_footer.py:48: UserWarning: Cannot parse header or footer so it will be ignored\n",
      "  warn(\"\"\"Cannot parse header or footer so it will be ignored\"\"\")\n",
      "/opt/anaconda3/envs/eLCI_updates_101624/lib/python3.12/site-packages/openpyxl/worksheet/header_footer.py:48: UserWarning: Cannot parse header or footer so it will be ignored\n",
      "  warn(\"\"\"Cannot parse header or footer so it will be ignored\"\"\")\n",
      "/opt/anaconda3/envs/eLCI_updates_101624/lib/python3.12/site-packages/openpyxl/worksheet/header_footer.py:48: UserWarning: Cannot parse header or footer so it will be ignored\n",
      "  warn(\"\"\"Cannot parse header or footer so it will be ignored\"\"\")\n",
      "/opt/anaconda3/envs/eLCI_updates_101624/lib/python3.12/site-packages/openpyxl/worksheet/header_footer.py:48: UserWarning: Cannot parse header or footer so it will be ignored\n",
      "  warn(\"\"\"Cannot parse header or footer so it will be ignored\"\"\")\n",
      "/opt/anaconda3/envs/eLCI_updates_101624/lib/python3.12/site-packages/openpyxl/worksheet/header_footer.py:48: UserWarning: Cannot parse header or footer so it will be ignored\n",
      "  warn(\"\"\"Cannot parse header or footer so it will be ignored\"\"\")\n",
      "/opt/anaconda3/envs/eLCI_updates_101624/lib/python3.12/site-packages/openpyxl/worksheet/header_footer.py:48: UserWarning: Cannot parse header or footer so it will be ignored\n",
      "  warn(\"\"\"Cannot parse header or footer so it will be ignored\"\"\")\n",
      "/opt/anaconda3/envs/eLCI_updates_101624/lib/python3.12/site-packages/openpyxl/worksheet/header_footer.py:48: UserWarning: Cannot parse header or footer so it will be ignored\n",
      "  warn(\"\"\"Cannot parse header or footer so it will be ignored\"\"\")\n",
      "/opt/anaconda3/envs/eLCI_updates_101624/lib/python3.12/site-packages/openpyxl/worksheet/header_footer.py:48: UserWarning: Cannot parse header or footer so it will be ignored\n",
      "  warn(\"\"\"Cannot parse header or footer so it will be ignored\"\"\")\n",
      "/opt/anaconda3/envs/eLCI_updates_101624/lib/python3.12/site-packages/openpyxl/worksheet/header_footer.py:48: UserWarning: Cannot parse header or footer so it will be ignored\n",
      "  warn(\"\"\"Cannot parse header or footer so it will be ignored\"\"\")\n",
      "/opt/anaconda3/envs/eLCI_updates_101624/lib/python3.12/site-packages/openpyxl/worksheet/header_footer.py:48: UserWarning: Cannot parse header or footer so it will be ignored\n",
      "  warn(\"\"\"Cannot parse header or footer so it will be ignored\"\"\")\n",
      "/opt/anaconda3/envs/eLCI_updates_101624/lib/python3.12/site-packages/openpyxl/worksheet/header_footer.py:48: UserWarning: Cannot parse header or footer so it will be ignored\n",
      "  warn(\"\"\"Cannot parse header or footer so it will be ignored\"\"\")\n",
      "/opt/anaconda3/envs/eLCI_updates_101624/lib/python3.12/site-packages/openpyxl/worksheet/header_footer.py:48: UserWarning: Cannot parse header or footer so it will be ignored\n",
      "  warn(\"\"\"Cannot parse header or footer so it will be ignored\"\"\")\n",
      "/opt/anaconda3/envs/eLCI_updates_101624/lib/python3.12/site-packages/openpyxl/worksheet/header_footer.py:48: UserWarning: Cannot parse header or footer so it will be ignored\n",
      "  warn(\"\"\"Cannot parse header or footer so it will be ignored\"\"\")\n",
      "/opt/anaconda3/envs/eLCI_updates_101624/lib/python3.12/site-packages/openpyxl/worksheet/header_footer.py:48: UserWarning: Cannot parse header or footer so it will be ignored\n",
      "  warn(\"\"\"Cannot parse header or footer so it will be ignored\"\"\")\n",
      "/opt/anaconda3/envs/eLCI_updates_101624/lib/python3.12/site-packages/openpyxl/worksheet/header_footer.py:48: UserWarning: Cannot parse header or footer so it will be ignored\n",
      "  warn(\"\"\"Cannot parse header or footer so it will be ignored\"\"\")\n",
      "/opt/anaconda3/envs/eLCI_updates_101624/lib/python3.12/site-packages/openpyxl/worksheet/header_footer.py:48: UserWarning: Cannot parse header or footer so it will be ignored\n",
      "  warn(\"\"\"Cannot parse header or footer so it will be ignored\"\"\")\n",
      "/opt/anaconda3/envs/eLCI_updates_101624/lib/python3.12/site-packages/openpyxl/worksheet/header_footer.py:48: UserWarning: Cannot parse header or footer so it will be ignored\n",
      "  warn(\"\"\"Cannot parse header or footer so it will be ignored\"\"\")\n",
      "/opt/anaconda3/envs/eLCI_updates_101624/lib/python3.12/site-packages/openpyxl/worksheet/header_footer.py:48: UserWarning: Cannot parse header or footer so it will be ignored\n",
      "  warn(\"\"\"Cannot parse header or footer so it will be ignored\"\"\")\n",
      "/opt/anaconda3/envs/eLCI_updates_101624/lib/python3.12/site-packages/openpyxl/worksheet/header_footer.py:48: UserWarning: Cannot parse header or footer so it will be ignored\n",
      "  warn(\"\"\"Cannot parse header or footer so it will be ignored\"\"\")\n",
      "/opt/anaconda3/envs/eLCI_updates_101624/lib/python3.12/site-packages/openpyxl/worksheet/header_footer.py:48: UserWarning: Cannot parse header or footer so it will be ignored\n",
      "  warn(\"\"\"Cannot parse header or footer so it will be ignored\"\"\")\n",
      "/opt/anaconda3/envs/eLCI_updates_101624/lib/python3.12/site-packages/openpyxl/worksheet/header_footer.py:48: UserWarning: Cannot parse header or footer so it will be ignored\n",
      "  warn(\"\"\"Cannot parse header or footer so it will be ignored\"\"\")\n",
      "/opt/anaconda3/envs/eLCI_updates_101624/lib/python3.12/site-packages/openpyxl/worksheet/header_footer.py:48: UserWarning: Cannot parse header or footer so it will be ignored\n",
      "  warn(\"\"\"Cannot parse header or footer so it will be ignored\"\"\")\n",
      "/opt/anaconda3/envs/eLCI_updates_101624/lib/python3.12/site-packages/openpyxl/worksheet/header_footer.py:48: UserWarning: Cannot parse header or footer so it will be ignored\n",
      "  warn(\"\"\"Cannot parse header or footer so it will be ignored\"\"\")\n",
      "/opt/anaconda3/envs/eLCI_updates_101624/lib/python3.12/site-packages/openpyxl/worksheet/header_footer.py:48: UserWarning: Cannot parse header or footer so it will be ignored\n",
      "  warn(\"\"\"Cannot parse header or footer so it will be ignored\"\"\")\n",
      "/opt/anaconda3/envs/eLCI_updates_101624/lib/python3.12/site-packages/openpyxl/worksheet/header_footer.py:48: UserWarning: Cannot parse header or footer so it will be ignored\n",
      "  warn(\"\"\"Cannot parse header or footer so it will be ignored\"\"\")\n",
      "/opt/anaconda3/envs/eLCI_updates_101624/lib/python3.12/site-packages/openpyxl/worksheet/header_footer.py:48: UserWarning: Cannot parse header or footer so it will be ignored\n",
      "  warn(\"\"\"Cannot parse header or footer so it will be ignored\"\"\")\n",
      "/opt/anaconda3/envs/eLCI_updates_101624/lib/python3.12/site-packages/openpyxl/worksheet/header_footer.py:48: UserWarning: Cannot parse header or footer so it will be ignored\n",
      "  warn(\"\"\"Cannot parse header or footer so it will be ignored\"\"\")\n",
      "/opt/anaconda3/envs/eLCI_updates_101624/lib/python3.12/site-packages/openpyxl/worksheet/header_footer.py:48: UserWarning: Cannot parse header or footer so it will be ignored\n",
      "  warn(\"\"\"Cannot parse header or footer so it will be ignored\"\"\")\n",
      "/opt/anaconda3/envs/eLCI_updates_101624/lib/python3.12/site-packages/openpyxl/worksheet/header_footer.py:48: UserWarning: Cannot parse header or footer so it will be ignored\n",
      "  warn(\"\"\"Cannot parse header or footer so it will be ignored\"\"\")\n",
      "/opt/anaconda3/envs/eLCI_updates_101624/lib/python3.12/site-packages/openpyxl/worksheet/header_footer.py:48: UserWarning: Cannot parse header or footer so it will be ignored\n",
      "  warn(\"\"\"Cannot parse header or footer so it will be ignored\"\"\")\n",
      "/opt/anaconda3/envs/eLCI_updates_101624/lib/python3.12/site-packages/openpyxl/worksheet/header_footer.py:48: UserWarning: Cannot parse header or footer so it will be ignored\n",
      "  warn(\"\"\"Cannot parse header or footer so it will be ignored\"\"\")\n",
      "/opt/anaconda3/envs/eLCI_updates_101624/lib/python3.12/site-packages/openpyxl/worksheet/header_footer.py:48: UserWarning: Cannot parse header or footer so it will be ignored\n",
      "  warn(\"\"\"Cannot parse header or footer so it will be ignored\"\"\")\n",
      "/opt/anaconda3/envs/eLCI_updates_101624/lib/python3.12/site-packages/openpyxl/worksheet/header_footer.py:48: UserWarning: Cannot parse header or footer so it will be ignored\n",
      "  warn(\"\"\"Cannot parse header or footer so it will be ignored\"\"\")\n",
      "/opt/anaconda3/envs/eLCI_updates_101624/lib/python3.12/site-packages/openpyxl/worksheet/header_footer.py:48: UserWarning: Cannot parse header or footer so it will be ignored\n",
      "  warn(\"\"\"Cannot parse header or footer so it will be ignored\"\"\")\n",
      "/opt/anaconda3/envs/eLCI_updates_101624/lib/python3.12/site-packages/openpyxl/worksheet/header_footer.py:48: UserWarning: Cannot parse header or footer so it will be ignored\n",
      "  warn(\"\"\"Cannot parse header or footer so it will be ignored\"\"\")\n",
      "/opt/anaconda3/envs/eLCI_updates_101624/lib/python3.12/site-packages/openpyxl/worksheet/header_footer.py:48: UserWarning: Cannot parse header or footer so it will be ignored\n",
      "  warn(\"\"\"Cannot parse header or footer so it will be ignored\"\"\")\n",
      "/opt/anaconda3/envs/eLCI_updates_101624/lib/python3.12/site-packages/openpyxl/worksheet/header_footer.py:48: UserWarning: Cannot parse header or footer so it will be ignored\n",
      "  warn(\"\"\"Cannot parse header or footer so it will be ignored\"\"\")\n",
      "/opt/anaconda3/envs/eLCI_updates_101624/lib/python3.12/site-packages/openpyxl/worksheet/header_footer.py:48: UserWarning: Cannot parse header or footer so it will be ignored\n",
      "  warn(\"\"\"Cannot parse header or footer so it will be ignored\"\"\")\n",
      "/opt/anaconda3/envs/eLCI_updates_101624/lib/python3.12/site-packages/openpyxl/worksheet/header_footer.py:48: UserWarning: Cannot parse header or footer so it will be ignored\n",
      "  warn(\"\"\"Cannot parse header or footer so it will be ignored\"\"\")\n",
      "/opt/anaconda3/envs/eLCI_updates_101624/lib/python3.12/site-packages/openpyxl/worksheet/header_footer.py:48: UserWarning: Cannot parse header or footer so it will be ignored\n",
      "  warn(\"\"\"Cannot parse header or footer so it will be ignored\"\"\")\n",
      "/opt/anaconda3/envs/eLCI_updates_101624/lib/python3.12/site-packages/openpyxl/worksheet/header_footer.py:48: UserWarning: Cannot parse header or footer so it will be ignored\n",
      "  warn(\"\"\"Cannot parse header or footer so it will be ignored\"\"\")\n",
      "/opt/anaconda3/envs/eLCI_updates_101624/lib/python3.12/site-packages/openpyxl/worksheet/header_footer.py:48: UserWarning: Cannot parse header or footer so it will be ignored\n",
      "  warn(\"\"\"Cannot parse header or footer so it will be ignored\"\"\")\n",
      "/opt/anaconda3/envs/eLCI_updates_101624/lib/python3.12/site-packages/openpyxl/worksheet/_reader.py:329: UserWarning: Unknown extension is not supported and will be removed\n",
      "  warn(msg)\n",
      "/opt/anaconda3/envs/eLCI_updates_101624/lib/python3.12/site-packages/openpyxl/worksheet/header_footer.py:48: UserWarning: Cannot parse header or footer so it will be ignored\n",
      "  warn(\"\"\"Cannot parse header or footer so it will be ignored\"\"\")\n",
      "/opt/anaconda3/envs/eLCI_updates_101624/lib/python3.12/site-packages/openpyxl/worksheet/header_footer.py:48: UserWarning: Cannot parse header or footer so it will be ignored\n",
      "  warn(\"\"\"Cannot parse header or footer so it will be ignored\"\"\")\n",
      "/opt/anaconda3/envs/eLCI_updates_101624/lib/python3.12/site-packages/openpyxl/worksheet/header_footer.py:48: UserWarning: Cannot parse header or footer so it will be ignored\n",
      "  warn(\"\"\"Cannot parse header or footer so it will be ignored\"\"\")\n",
      "/opt/anaconda3/envs/eLCI_updates_101624/lib/python3.12/site-packages/openpyxl/worksheet/header_footer.py:48: UserWarning: Cannot parse header or footer so it will be ignored\n",
      "  warn(\"\"\"Cannot parse header or footer so it will be ignored\"\"\")\n",
      "/opt/anaconda3/envs/eLCI_updates_101624/lib/python3.12/site-packages/openpyxl/worksheet/header_footer.py:48: UserWarning: Cannot parse header or footer so it will be ignored\n",
      "  warn(\"\"\"Cannot parse header or footer so it will be ignored\"\"\")\n",
      "/opt/anaconda3/envs/eLCI_updates_101624/lib/python3.12/site-packages/openpyxl/worksheet/header_footer.py:48: UserWarning: Cannot parse header or footer so it will be ignored\n",
      "  warn(\"\"\"Cannot parse header or footer so it will be ignored\"\"\")\n",
      "/opt/anaconda3/envs/eLCI_updates_101624/lib/python3.12/site-packages/openpyxl/worksheet/header_footer.py:48: UserWarning: Cannot parse header or footer so it will be ignored\n",
      "  warn(\"\"\"Cannot parse header or footer so it will be ignored\"\"\")\n",
      "/opt/anaconda3/envs/eLCI_updates_101624/lib/python3.12/site-packages/openpyxl/worksheet/header_footer.py:48: UserWarning: Cannot parse header or footer so it will be ignored\n",
      "  warn(\"\"\"Cannot parse header or footer so it will be ignored\"\"\")\n",
      "/opt/anaconda3/envs/eLCI_updates_101624/lib/python3.12/site-packages/openpyxl/worksheet/header_footer.py:48: UserWarning: Cannot parse header or footer so it will be ignored\n",
      "  warn(\"\"\"Cannot parse header or footer so it will be ignored\"\"\")\n",
      "/opt/anaconda3/envs/eLCI_updates_101624/lib/python3.12/site-packages/openpyxl/worksheet/header_footer.py:48: UserWarning: Cannot parse header or footer so it will be ignored\n",
      "  warn(\"\"\"Cannot parse header or footer so it will be ignored\"\"\")\n",
      "/opt/anaconda3/envs/eLCI_updates_101624/lib/python3.12/site-packages/openpyxl/worksheet/_reader.py:329: UserWarning: Unknown extension is not supported and will be removed\n",
      "  warn(msg)\n",
      "/opt/anaconda3/envs/eLCI_updates_101624/lib/python3.12/site-packages/openpyxl/worksheet/header_footer.py:48: UserWarning: Cannot parse header or footer so it will be ignored\n",
      "  warn(\"\"\"Cannot parse header or footer so it will be ignored\"\"\")\n",
      "/opt/anaconda3/envs/eLCI_updates_101624/lib/python3.12/site-packages/openpyxl/worksheet/header_footer.py:48: UserWarning: Cannot parse header or footer so it will be ignored\n",
      "  warn(\"\"\"Cannot parse header or footer so it will be ignored\"\"\")\n",
      "/opt/anaconda3/envs/eLCI_updates_101624/lib/python3.12/site-packages/openpyxl/worksheet/header_footer.py:48: UserWarning: Cannot parse header or footer so it will be ignored\n",
      "  warn(\"\"\"Cannot parse header or footer so it will be ignored\"\"\")\n",
      "/opt/anaconda3/envs/eLCI_updates_101624/lib/python3.12/site-packages/openpyxl/worksheet/header_footer.py:48: UserWarning: Cannot parse header or footer so it will be ignored\n",
      "  warn(\"\"\"Cannot parse header or footer so it will be ignored\"\"\")\n",
      "/opt/anaconda3/envs/eLCI_updates_101624/lib/python3.12/site-packages/openpyxl/worksheet/header_footer.py:48: UserWarning: Cannot parse header or footer so it will be ignored\n",
      "  warn(\"\"\"Cannot parse header or footer so it will be ignored\"\"\")\n",
      "/opt/anaconda3/envs/eLCI_updates_101624/lib/python3.12/site-packages/openpyxl/worksheet/header_footer.py:48: UserWarning: Cannot parse header or footer so it will be ignored\n",
      "  warn(\"\"\"Cannot parse header or footer so it will be ignored\"\"\")\n",
      "/opt/anaconda3/envs/eLCI_updates_101624/lib/python3.12/site-packages/openpyxl/worksheet/header_footer.py:48: UserWarning: Cannot parse header or footer so it will be ignored\n",
      "  warn(\"\"\"Cannot parse header or footer so it will be ignored\"\"\")\n",
      "/opt/anaconda3/envs/eLCI_updates_101624/lib/python3.12/site-packages/openpyxl/worksheet/header_footer.py:48: UserWarning: Cannot parse header or footer so it will be ignored\n",
      "  warn(\"\"\"Cannot parse header or footer so it will be ignored\"\"\")\n",
      "/opt/anaconda3/envs/eLCI_updates_101624/lib/python3.12/site-packages/openpyxl/worksheet/header_footer.py:48: UserWarning: Cannot parse header or footer so it will be ignored\n",
      "  warn(\"\"\"Cannot parse header or footer so it will be ignored\"\"\")\n",
      "/opt/anaconda3/envs/eLCI_updates_101624/lib/python3.12/site-packages/openpyxl/worksheet/header_footer.py:48: UserWarning: Cannot parse header or footer so it will be ignored\n",
      "  warn(\"\"\"Cannot parse header or footer so it will be ignored\"\"\")\n",
      "/opt/anaconda3/envs/eLCI_updates_101624/lib/python3.12/site-packages/openpyxl/worksheet/header_footer.py:48: UserWarning: Cannot parse header or footer so it will be ignored\n",
      "  warn(\"\"\"Cannot parse header or footer so it will be ignored\"\"\")\n",
      "/opt/anaconda3/envs/eLCI_updates_101624/lib/python3.12/site-packages/openpyxl/worksheet/header_footer.py:48: UserWarning: Cannot parse header or footer so it will be ignored\n",
      "  warn(\"\"\"Cannot parse header or footer so it will be ignored\"\"\")\n",
      "/opt/anaconda3/envs/eLCI_updates_101624/lib/python3.12/site-packages/openpyxl/worksheet/header_footer.py:48: UserWarning: Cannot parse header or footer so it will be ignored\n",
      "  warn(\"\"\"Cannot parse header or footer so it will be ignored\"\"\")\n",
      "/opt/anaconda3/envs/eLCI_updates_101624/lib/python3.12/site-packages/openpyxl/worksheet/header_footer.py:48: UserWarning: Cannot parse header or footer so it will be ignored\n",
      "  warn(\"\"\"Cannot parse header or footer so it will be ignored\"\"\")\n",
      "/opt/anaconda3/envs/eLCI_updates_101624/lib/python3.12/site-packages/openpyxl/worksheet/header_footer.py:48: UserWarning: Cannot parse header or footer so it will be ignored\n",
      "  warn(\"\"\"Cannot parse header or footer so it will be ignored\"\"\")\n",
      "/opt/anaconda3/envs/eLCI_updates_101624/lib/python3.12/site-packages/openpyxl/worksheet/header_footer.py:48: UserWarning: Cannot parse header or footer so it will be ignored\n",
      "  warn(\"\"\"Cannot parse header or footer so it will be ignored\"\"\")\n",
      "/opt/anaconda3/envs/eLCI_updates_101624/lib/python3.12/site-packages/openpyxl/worksheet/header_footer.py:48: UserWarning: Cannot parse header or footer so it will be ignored\n",
      "  warn(\"\"\"Cannot parse header or footer so it will be ignored\"\"\")\n",
      "/opt/anaconda3/envs/eLCI_updates_101624/lib/python3.12/site-packages/openpyxl/worksheet/header_footer.py:48: UserWarning: Cannot parse header or footer so it will be ignored\n",
      "  warn(\"\"\"Cannot parse header or footer so it will be ignored\"\"\")\n",
      "/opt/anaconda3/envs/eLCI_updates_101624/lib/python3.12/site-packages/openpyxl/worksheet/header_footer.py:48: UserWarning: Cannot parse header or footer so it will be ignored\n",
      "  warn(\"\"\"Cannot parse header or footer so it will be ignored\"\"\")\n",
      "/opt/anaconda3/envs/eLCI_updates_101624/lib/python3.12/site-packages/openpyxl/worksheet/header_footer.py:48: UserWarning: Cannot parse header or footer so it will be ignored\n",
      "  warn(\"\"\"Cannot parse header or footer so it will be ignored\"\"\")\n",
      "/opt/anaconda3/envs/eLCI_updates_101624/lib/python3.12/site-packages/openpyxl/worksheet/header_footer.py:48: UserWarning: Cannot parse header or footer so it will be ignored\n",
      "  warn(\"\"\"Cannot parse header or footer so it will be ignored\"\"\")\n",
      "/opt/anaconda3/envs/eLCI_updates_101624/lib/python3.12/site-packages/openpyxl/worksheet/header_footer.py:48: UserWarning: Cannot parse header or footer so it will be ignored\n",
      "  warn(\"\"\"Cannot parse header or footer so it will be ignored\"\"\")\n",
      "/opt/anaconda3/envs/eLCI_updates_101624/lib/python3.12/site-packages/openpyxl/worksheet/header_footer.py:48: UserWarning: Cannot parse header or footer so it will be ignored\n",
      "  warn(\"\"\"Cannot parse header or footer so it will be ignored\"\"\")\n",
      "/opt/anaconda3/envs/eLCI_updates_101624/lib/python3.12/site-packages/openpyxl/worksheet/header_footer.py:48: UserWarning: Cannot parse header or footer so it will be ignored\n",
      "  warn(\"\"\"Cannot parse header or footer so it will be ignored\"\"\")\n",
      "/opt/anaconda3/envs/eLCI_updates_101624/lib/python3.12/site-packages/openpyxl/worksheet/header_footer.py:48: UserWarning: Cannot parse header or footer so it will be ignored\n",
      "  warn(\"\"\"Cannot parse header or footer so it will be ignored\"\"\")\n",
      "/opt/anaconda3/envs/eLCI_updates_101624/lib/python3.12/site-packages/openpyxl/worksheet/header_footer.py:48: UserWarning: Cannot parse header or footer so it will be ignored\n",
      "  warn(\"\"\"Cannot parse header or footer so it will be ignored\"\"\")\n",
      "/opt/anaconda3/envs/eLCI_updates_101624/lib/python3.12/site-packages/openpyxl/worksheet/header_footer.py:48: UserWarning: Cannot parse header or footer so it will be ignored\n",
      "  warn(\"\"\"Cannot parse header or footer so it will be ignored\"\"\")\n",
      "/opt/anaconda3/envs/eLCI_updates_101624/lib/python3.12/site-packages/openpyxl/worksheet/header_footer.py:48: UserWarning: Cannot parse header or footer so it will be ignored\n",
      "  warn(\"\"\"Cannot parse header or footer so it will be ignored\"\"\")\n",
      "/opt/anaconda3/envs/eLCI_updates_101624/lib/python3.12/site-packages/openpyxl/worksheet/header_footer.py:48: UserWarning: Cannot parse header or footer so it will be ignored\n",
      "  warn(\"\"\"Cannot parse header or footer so it will be ignored\"\"\")\n",
      "/opt/anaconda3/envs/eLCI_updates_101624/lib/python3.12/site-packages/openpyxl/worksheet/header_footer.py:48: UserWarning: Cannot parse header or footer so it will be ignored\n",
      "  warn(\"\"\"Cannot parse header or footer so it will be ignored\"\"\")\n",
      "/opt/anaconda3/envs/eLCI_updates_101624/lib/python3.12/site-packages/openpyxl/worksheet/header_footer.py:48: UserWarning: Cannot parse header or footer so it will be ignored\n",
      "  warn(\"\"\"Cannot parse header or footer so it will be ignored\"\"\")\n",
      "/opt/anaconda3/envs/eLCI_updates_101624/lib/python3.12/site-packages/openpyxl/worksheet/header_footer.py:48: UserWarning: Cannot parse header or footer so it will be ignored\n",
      "  warn(\"\"\"Cannot parse header or footer so it will be ignored\"\"\")\n",
      "/opt/anaconda3/envs/eLCI_updates_101624/lib/python3.12/site-packages/openpyxl/worksheet/header_footer.py:48: UserWarning: Cannot parse header or footer so it will be ignored\n",
      "  warn(\"\"\"Cannot parse header or footer so it will be ignored\"\"\")\n",
      "/opt/anaconda3/envs/eLCI_updates_101624/lib/python3.12/site-packages/openpyxl/worksheet/header_footer.py:48: UserWarning: Cannot parse header or footer so it will be ignored\n",
      "  warn(\"\"\"Cannot parse header or footer so it will be ignored\"\"\")\n",
      "/opt/anaconda3/envs/eLCI_updates_101624/lib/python3.12/site-packages/openpyxl/worksheet/header_footer.py:48: UserWarning: Cannot parse header or footer so it will be ignored\n",
      "  warn(\"\"\"Cannot parse header or footer so it will be ignored\"\"\")\n",
      "/opt/anaconda3/envs/eLCI_updates_101624/lib/python3.12/site-packages/openpyxl/worksheet/header_footer.py:48: UserWarning: Cannot parse header or footer so it will be ignored\n",
      "  warn(\"\"\"Cannot parse header or footer so it will be ignored\"\"\")\n",
      "/opt/anaconda3/envs/eLCI_updates_101624/lib/python3.12/site-packages/openpyxl/worksheet/header_footer.py:48: UserWarning: Cannot parse header or footer so it will be ignored\n",
      "  warn(\"\"\"Cannot parse header or footer so it will be ignored\"\"\")\n",
      "/opt/anaconda3/envs/eLCI_updates_101624/lib/python3.12/site-packages/openpyxl/worksheet/header_footer.py:48: UserWarning: Cannot parse header or footer so it will be ignored\n",
      "  warn(\"\"\"Cannot parse header or footer so it will be ignored\"\"\")\n",
      "/opt/anaconda3/envs/eLCI_updates_101624/lib/python3.12/site-packages/openpyxl/worksheet/header_footer.py:48: UserWarning: Cannot parse header or footer so it will be ignored\n",
      "  warn(\"\"\"Cannot parse header or footer so it will be ignored\"\"\")\n",
      "/opt/anaconda3/envs/eLCI_updates_101624/lib/python3.12/site-packages/openpyxl/worksheet/header_footer.py:48: UserWarning: Cannot parse header or footer so it will be ignored\n",
      "  warn(\"\"\"Cannot parse header or footer so it will be ignored\"\"\")\n",
      "/opt/anaconda3/envs/eLCI_updates_101624/lib/python3.12/site-packages/openpyxl/worksheet/header_footer.py:48: UserWarning: Cannot parse header or footer so it will be ignored\n",
      "  warn(\"\"\"Cannot parse header or footer so it will be ignored\"\"\")\n",
      "/opt/anaconda3/envs/eLCI_updates_101624/lib/python3.12/site-packages/openpyxl/worksheet/header_footer.py:48: UserWarning: Cannot parse header or footer so it will be ignored\n",
      "  warn(\"\"\"Cannot parse header or footer so it will be ignored\"\"\")\n",
      "/opt/anaconda3/envs/eLCI_updates_101624/lib/python3.12/site-packages/openpyxl/worksheet/header_footer.py:48: UserWarning: Cannot parse header or footer so it will be ignored\n",
      "  warn(\"\"\"Cannot parse header or footer so it will be ignored\"\"\")\n",
      "/opt/anaconda3/envs/eLCI_updates_101624/lib/python3.12/site-packages/openpyxl/worksheet/header_footer.py:48: UserWarning: Cannot parse header or footer so it will be ignored\n",
      "  warn(\"\"\"Cannot parse header or footer so it will be ignored\"\"\")\n",
      "/opt/anaconda3/envs/eLCI_updates_101624/lib/python3.12/site-packages/openpyxl/worksheet/header_footer.py:48: UserWarning: Cannot parse header or footer so it will be ignored\n",
      "  warn(\"\"\"Cannot parse header or footer so it will be ignored\"\"\")\n",
      "/opt/anaconda3/envs/eLCI_updates_101624/lib/python3.12/site-packages/openpyxl/worksheet/header_footer.py:48: UserWarning: Cannot parse header or footer so it will be ignored\n",
      "  warn(\"\"\"Cannot parse header or footer so it will be ignored\"\"\")\n",
      "/opt/anaconda3/envs/eLCI_updates_101624/lib/python3.12/site-packages/openpyxl/worksheet/header_footer.py:48: UserWarning: Cannot parse header or footer so it will be ignored\n",
      "  warn(\"\"\"Cannot parse header or footer so it will be ignored\"\"\")\n",
      "/opt/anaconda3/envs/eLCI_updates_101624/lib/python3.12/site-packages/openpyxl/worksheet/header_footer.py:48: UserWarning: Cannot parse header or footer so it will be ignored\n",
      "  warn(\"\"\"Cannot parse header or footer so it will be ignored\"\"\")\n",
      "/opt/anaconda3/envs/eLCI_updates_101624/lib/python3.12/site-packages/openpyxl/worksheet/header_footer.py:48: UserWarning: Cannot parse header or footer so it will be ignored\n",
      "  warn(\"\"\"Cannot parse header or footer so it will be ignored\"\"\")\n",
      "/opt/anaconda3/envs/eLCI_updates_101624/lib/python3.12/site-packages/openpyxl/worksheet/header_footer.py:48: UserWarning: Cannot parse header or footer so it will be ignored\n",
      "  warn(\"\"\"Cannot parse header or footer so it will be ignored\"\"\")\n",
      "/opt/anaconda3/envs/eLCI_updates_101624/lib/python3.12/site-packages/openpyxl/worksheet/header_footer.py:48: UserWarning: Cannot parse header or footer so it will be ignored\n",
      "  warn(\"\"\"Cannot parse header or footer so it will be ignored\"\"\")\n",
      "/opt/anaconda3/envs/eLCI_updates_101624/lib/python3.12/site-packages/openpyxl/worksheet/header_footer.py:48: UserWarning: Cannot parse header or footer so it will be ignored\n",
      "  warn(\"\"\"Cannot parse header or footer so it will be ignored\"\"\")\n",
      "/opt/anaconda3/envs/eLCI_updates_101624/lib/python3.12/site-packages/openpyxl/worksheet/header_footer.py:48: UserWarning: Cannot parse header or footer so it will be ignored\n",
      "  warn(\"\"\"Cannot parse header or footer so it will be ignored\"\"\")\n"
     ]
    },
    {
     "ename": "TypeError",
     "evalue": "object of type 'builtin_function_or_method' has no len()",
     "output_type": "error",
     "traceback": [
      "\u001b[0;31m---------------------------------------------------------------------------\u001b[0m",
      "\u001b[0;31mTypeError\u001b[0m                                 Traceback (most recent call last)",
      "Cell \u001b[0;32mIn[1], line 30\u001b[0m\n\u001b[1;32m     27\u001b[0m             \u001b[38;5;28mprint\u001b[39m(\u001b[38;5;124mf\u001b[39m\u001b[38;5;124m\"\u001b[39m\u001b[38;5;124mError processing \u001b[39m\u001b[38;5;132;01m{\u001b[39;00mfilename\u001b[38;5;132;01m}\u001b[39;00m\u001b[38;5;124m: \u001b[39m\u001b[38;5;132;01m{\u001b[39;00me\u001b[38;5;132;01m}\u001b[39;00m\u001b[38;5;124m\"\u001b[39m)\n\u001b[1;32m     29\u001b[0m \u001b[38;5;66;03m# Optional: print or save results\u001b[39;00m\n\u001b[0;32m---> 30\u001b[0m \u001b[38;5;28mprint\u001b[39m(\u001b[38;5;124mf\u001b[39m\u001b[38;5;124m\"\u001b[39m\u001b[38;5;124mExtracted \u001b[39m\u001b[38;5;132;01m{\u001b[39;00m\u001b[38;5;28mlen\u001b[39m(process_names\u001b[38;5;241m.\u001b[39mkeys)\u001b[38;5;132;01m}\u001b[39;00m\u001b[38;5;124m process names.\u001b[39m\u001b[38;5;124m\"\u001b[39m)\n",
      "\u001b[0;31mTypeError\u001b[0m: object of type 'builtin_function_or_method' has no len()"
     ]
    }
   ],
   "source": []
  },
  {
   "cell_type": "code",
   "execution_count": 3,
   "id": "d7da7b27-a172-47f4-98b1-8d30468d2539",
   "metadata": {},
   "outputs": [
    {
     "name": "stdout",
     "output_type": "stream",
     "text": [
      "No duplicate values found.\n"
     ]
    }
   ],
   "source": []
  },
  {
   "cell_type": "markdown",
   "id": "2d07872a-0f10-4892-b4f9-8bf139dd231c",
   "metadata": {},
   "source": []
  },
  {
   "cell_type": "code",
   "execution_count": 23,
   "id": "134088e4-3e90-437e-978a-82cba381269f",
   "metadata": {},
   "outputs": [],
   "source": []
  },
  {
   "cell_type": "code",
   "execution_count": 55,
   "id": "a2a35bde-8627-4f7c-a65c-0d7135d71fdb",
   "metadata": {},
   "outputs": [
    {
     "name": "stderr",
     "output_type": "stream",
     "text": [
      "/opt/anaconda3/envs/eLCI_updates_101624/lib/python3.12/site-packages/openpyxl/worksheet/header_footer.py:48: UserWarning: Cannot parse header or footer so it will be ignored\n",
      "  warn(\"\"\"Cannot parse header or footer so it will be ignored\"\"\")\n",
      "WARNING:root:failed to get entity of type <class 'olca_schema.schema.Process'>: 404: resource not found\n"
     ]
    },
    {
     "name": "stdout",
     "output_type": "stream",
     "text": [
      "Process \"SOFC NG and Coal plant with CCUS\" not found in database. \n",
      "\n",
      "...Importing...\n",
      "...scraping DS file for unit process data...\n"
     ]
    },
    {
     "name": "stderr",
     "output_type": "stream",
     "text": [
      "/opt/anaconda3/envs/eLCI_updates_101624/lib/python3.12/site-packages/openpyxl/worksheet/header_footer.py:48: UserWarning: Cannot parse header or footer so it will be ignored\n",
      "  warn(\"\"\"Cannot parse header or footer so it will be ignored\"\"\")\n"
     ]
    },
    {
     "name": "stdout",
     "output_type": "stream",
     "text": [
      "Illinois 6 Coal [Intermediate]\n",
      "Solid Oxide Fuel Cells [Intermediate]\n",
      "Natural Gas [Intermediate]\n",
      "Water (Unspecified) [Water]\n",
      "...importing flow data...\n",
      "Electricity [Energy]\n",
      "Carbon dioxide [Inorganic emissions to air]\n",
      "Carbon dioxide [Intermediate]\n",
      "Mercury (+II) [Heavy metals to air]\n",
      "Nitrogen oxides [Inorganic emissions to air]\n",
      "Dust (unspecified) [Particles to air]\n",
      "Waste (solid) [Waste for disposal]\n",
      "Sulphur dioxide [Inorganic emissions to air]\n",
      "Water (wastewater) [Water]\n",
      "Waste (solid) [Waste for disposal]\n",
      "...importing flow data...\n",
      "...adding references...\n"
     ]
    },
    {
     "name": "stderr",
     "output_type": "stream",
     "text": [
      "ERROR:root:failed to delete model: 404: resource not found\n"
     ]
    },
    {
     "name": "stdout",
     "output_type": "stream",
     "text": [
      "...process SOFC NG and Coal plant with CCUS added to database...\n"
     ]
    },
    {
     "data": {
      "text/plain": [
       "Process(id='ea247e44-dc75-326a-91ec-3059cd9d94b1', allocation_factors=None, category='NETL UP Library', default_allocation_method=None, description='Coal integrated gasification solid oxide fuel cell (SOFC) and natural gas (NG) solid fuel cell power plants with and without carbon capture.\\n\\nThis document should be cited as: NETL (2015). NETL Life Cycle Inventory Data – Unit Process: SOFC NG and Coal plant with CCUS - Version 01. U.S. Department of Energy, National Energy Technology Laboratory. Retrieved [DATE] from www.netl.doe.gov/LCA', dq_entry='(2;2;1;1;1)', dq_system=Ref(id='8b3f950a-568c-4b8c-9d7f-a51d6fd4b20d', category=None, description=None, flow_type=None, library=None, location=None, name='US EPA - Process Pedigree Matrix', process_type=None, ref_unit=None, ref_type=<RefType.DQSystem: 'DQSystem'>), exchange_dq_system=Ref(id='74d0a502-b6a5-4faa-97a9-55bc8795c1a3', category=None, description=None, flow_type=None, library=None, location=None, name='US EPA - Flow Pedigree Matrix', process_type=None, ref_unit=None, ref_type=<RefType.DQSystem: 'DQSystem'>), exchanges=[Exchange(amount=245.44295497400003, amount_formula='1*coal_flowrate', base_uncertainty=None, cost_formula=None, cost_value=None, currency=None, default_provider=None, description='[Technosphere] ', dq_entry=None, flow=Ref(id='e9be73e8-47f7-4cf4-b687-7f778e2222dd', category='Technosphere Flows', description=None, flow_type=<FlowType.PRODUCT_FLOW: 'PRODUCT_FLOW'>, library=None, location=None, name='Illinois 6 Coal [Intermediate]', process_type=None, ref_unit='kg', ref_type=<RefType.Flow: 'Flow'>), flow_property=Ref(id='93a60a56-a3c8-11da-a746-0800200b9a66', category=None, description=None, flow_type=None, library=None, location=None, name='Mass', process_type=None, ref_unit=None, ref_type=<RefType.FlowProperty: 'FlowProperty'>), internal_id=1, is_avoided_product=False, is_input=True, is_quantitative_reference=False, location=None, uncertainty=None, unit=Ref(id='20aadc24-a391-41cf-b340-3e4529f44bde', category=None, description=None, flow_type=None, library=None, location=None, name='kg', process_type=None, ref_unit=None, ref_type=<RefType.Unit: 'Unit'>)), Exchange(amount=0.0168272908061802, amount_formula='1*fc_demand', base_uncertainty=None, cost_formula=None, cost_value=None, currency=None, default_provider=None, description='[Technosphere] ', dq_entry=None, flow=Ref(id='f6f508e7-f585-4d2c-b56b-caabf749d138', category='Technosphere Flows', description=None, flow_type=<FlowType.PRODUCT_FLOW: 'PRODUCT_FLOW'>, library=None, location=None, name='Solid Oxide Fuel Cells [Intermediate]', process_type=None, ref_unit='pcs', ref_type=<RefType.Flow: 'Flow'>), flow_property=Ref(id='01846770-4cfe-4a25-8ad9-919d8d378345', category=None, description=None, flow_type=None, library=None, location=None, name='Number of items', process_type=None, ref_unit=None, ref_type=<RefType.FlowProperty: 'FlowProperty'>), internal_id=1, is_avoided_product=False, is_input=True, is_quantitative_reference=False, location=None, uncertainty=None, unit=Ref(id='6dabe201-aaac-4509-92f0-d00c26cb72ab', category=None, description=None, flow_type=None, library=None, location=None, name='Item(s)', process_type=None, ref_unit=None, ref_type=<RefType.Unit: 'Unit'>)), Exchange(amount=0.0, amount_formula='1*ng_flowrate', base_uncertainty=None, cost_formula=None, cost_value=None, currency=None, default_provider=None, description='[Technosphere] ', dq_entry=None, flow=Ref(id='eb03af11-cc06-4e83-87b1-617c234612a8', category='Technosphere Flows', description=None, flow_type=<FlowType.PRODUCT_FLOW: 'PRODUCT_FLOW'>, library=None, location=None, name='Natural Gas [Intermediate]', process_type=None, ref_unit='kg', ref_type=<RefType.Flow: 'Flow'>), flow_property=Ref(id='93a60a56-a3c8-11da-a746-0800200b9a66', category=None, description=None, flow_type=None, library=None, location=None, name='Mass', process_type=None, ref_unit=None, ref_type=<RefType.FlowProperty: 'FlowProperty'>), internal_id=1, is_avoided_product=False, is_input=True, is_quantitative_reference=False, location=None, uncertainty=None, unit=Ref(id='20aadc24-a391-41cf-b340-3e4529f44bde', category=None, description=None, flow_type=None, library=None, location=None, name='kg', process_type=None, ref_unit=None, ref_type=<RefType.Unit: 'Unit'>)), Exchange(amount=639.2528118143999, amount_formula='1*wat_withdrawal', base_uncertainty=None, cost_formula=None, cost_value=None, currency=None, default_provider=None, description='[Resource] ', dq_entry=None, flow=Ref(id='68a51136-6281-483a-a195-733bbf253160', category='Technosphere Flows', description=None, flow_type=<FlowType.PRODUCT_FLOW: 'PRODUCT_FLOW'>, library=None, location=None, name='Water (Unspecified) [Water]', process_type=None, ref_unit='l', ref_type=<RefType.Flow: 'Flow'>), flow_property=Ref(id='93a60a56-a3c8-11da-a746-0800200b9a66', category=None, description=None, flow_type=None, library=None, location=None, name='Mass', process_type=None, ref_unit=None, ref_type=<RefType.FlowProperty: 'FlowProperty'>), internal_id=1, is_avoided_product=False, is_input=True, is_quantitative_reference=False, location=None, uncertainty=None, unit=Ref(id='b80a512e-e402-4363-8ad0-7d02dcf4a459', category=None, description=None, flow_type=None, library=None, location=None, name='l', process_type=None, ref_unit=None, ref_type=<RefType.Unit: 'Unit'>)), Exchange(amount=1.0, amount_formula=None, base_uncertainty=None, cost_formula=None, cost_value=None, currency=None, default_provider=None, description='Reference flow', dq_entry=None, flow=Ref(id='7f0939e0-e85d-4467-be2b-5d3a91510164', category='Technosphere Flows', description=None, flow_type=<FlowType.PRODUCT_FLOW: 'PRODUCT_FLOW'>, library=None, location=None, name='Electricity [Energy]', process_type=None, ref_unit='MWh', ref_type=<RefType.Flow: 'Flow'>), flow_property=Ref(id='f6811440-ee37-11de-8a39-0800200c9a66', category=None, description=None, flow_type=None, library=None, location=None, name='Energy', process_type=None, ref_unit=None, ref_type=<RefType.FlowProperty: 'FlowProperty'>), internal_id=1, is_avoided_product=False, is_input=False, is_quantitative_reference=True, location=None, uncertainty=None, unit=Ref(id='92e3bd49-8ed5-4885-9db6-fc88c7afcfcb', category=None, description=None, flow_type=None, library=None, location=None, name='MWh', process_type=None, ref_unit=None, ref_type=<RefType.Unit: 'Unit'>)), Exchange(amount=9.661517481, amount_formula='1*co2_emissions', base_uncertainty=None, cost_formula=None, cost_value=None, currency=None, default_provider=None, description='Emission to air', dq_entry=None, flow=Ref(id='d74e8e9c-dc50-4750-ba87-136f0c1d964d', category='Technosphere Flows', description=None, flow_type=<FlowType.PRODUCT_FLOW: 'PRODUCT_FLOW'>, library=None, location=None, name='Carbon dioxide [Inorganic emissions to air]', process_type=None, ref_unit='kg', ref_type=<RefType.Flow: 'Flow'>), flow_property=Ref(id='93a60a56-a3c8-11da-a746-0800200b9a66', category=None, description=None, flow_type=None, library=None, location=None, name='Mass', process_type=None, ref_unit=None, ref_type=<RefType.FlowProperty: 'FlowProperty'>), internal_id=1, is_avoided_product=False, is_input=False, is_quantitative_reference=False, location=None, uncertainty=None, unit=Ref(id='20aadc24-a391-41cf-b340-3e4529f44bde', category=None, description=None, flow_type=None, library=None, location=None, name='kg', process_type=None, ref_unit=None, ref_type=<RefType.Unit: 'Unit'>)), Exchange(amount=634.4396479189995, amount_formula='1*co2_saline', base_uncertainty=None, cost_formula=None, cost_value=None, currency=None, default_provider=None, description='Intermediate product', dq_entry=None, flow=Ref(id='6b4f0f32-b757-48d1-af36-4d54dc9b2211', category='Technosphere Flows', description=None, flow_type=<FlowType.PRODUCT_FLOW: 'PRODUCT_FLOW'>, library=None, location=None, name='Carbon dioxide [Intermediate]', process_type=None, ref_unit='kg', ref_type=<RefType.Flow: 'Flow'>), flow_property=Ref(id='93a60a56-a3c8-11da-a746-0800200b9a66', category=None, description=None, flow_type=None, library=None, location=None, name='Mass', process_type=None, ref_unit=None, ref_type=<RefType.FlowProperty: 'FlowProperty'>), internal_id=1, is_avoided_product=False, is_input=False, is_quantitative_reference=False, location=None, uncertainty=None, unit=Ref(id='20aadc24-a391-41cf-b340-3e4529f44bde', category=None, description=None, flow_type=None, library=None, location=None, name='kg', process_type=None, ref_unit=None, ref_type=<RefType.Unit: 'Unit'>)), Exchange(amount=0.0, amount_formula='1*hg_em', base_uncertainty=None, cost_formula=None, cost_value=None, currency=None, default_provider=None, description='Emission to air', dq_entry=None, flow=Ref(id='38fb5b48-b451-4ac9-8388-dc17263c6d39', category='Technosphere Flows', description=None, flow_type=<FlowType.PRODUCT_FLOW: 'PRODUCT_FLOW'>, library=None, location=None, name='Mercury (+II) [Heavy metals to air]', process_type=None, ref_unit='kg', ref_type=<RefType.Flow: 'Flow'>), flow_property=Ref(id='93a60a56-a3c8-11da-a746-0800200b9a66', category=None, description=None, flow_type=None, library=None, location=None, name='Mass', process_type=None, ref_unit=None, ref_type=<RefType.FlowProperty: 'FlowProperty'>), internal_id=1, is_avoided_product=False, is_input=False, is_quantitative_reference=False, location=None, uncertainty=None, unit=Ref(id='20aadc24-a391-41cf-b340-3e4529f44bde', category=None, description=None, flow_type=None, library=None, location=None, name='kg', process_type=None, ref_unit=None, ref_type=<RefType.Unit: 'Unit'>)), Exchange(amount=0.0, amount_formula='1*nox_em', base_uncertainty=None, cost_formula=None, cost_value=None, currency=None, default_provider=None, description='Emission to air', dq_entry=None, flow=Ref(id='7f75e361-58db-436f-9574-a4a2a4eb2aa9', category='Technosphere Flows', description=None, flow_type=<FlowType.PRODUCT_FLOW: 'PRODUCT_FLOW'>, library=None, location=None, name='Nitrogen oxides [Inorganic emissions to air]', process_type=None, ref_unit='kg', ref_type=<RefType.Flow: 'Flow'>), flow_property=Ref(id='93a60a56-a3c8-11da-a746-0800200b9a66', category=None, description=None, flow_type=None, library=None, location=None, name='Mass', process_type=None, ref_unit=None, ref_type=<RefType.FlowProperty: 'FlowProperty'>), internal_id=1, is_avoided_product=False, is_input=False, is_quantitative_reference=False, location=None, uncertainty=None, unit=Ref(id='20aadc24-a391-41cf-b340-3e4529f44bde', category=None, description=None, flow_type=None, library=None, location=None, name='kg', process_type=None, ref_unit=None, ref_type=<RefType.Unit: 'Unit'>)), Exchange(amount=0.0, amount_formula='1*pm_em', base_uncertainty=None, cost_formula=None, cost_value=None, currency=None, default_provider=None, description='Emission to air', dq_entry=None, flow=Ref(id='7f9fcf8f-17d3-484e-8539-629a0de5284c', category='Technosphere Flows', description=None, flow_type=<FlowType.PRODUCT_FLOW: 'PRODUCT_FLOW'>, library=None, location=None, name='Dust (unspecified) [Particles to air]', process_type=None, ref_unit='kg', ref_type=<RefType.Flow: 'Flow'>), flow_property=Ref(id='93a60a56-a3c8-11da-a746-0800200b9a66', category=None, description=None, flow_type=None, library=None, location=None, name='Mass', process_type=None, ref_unit=None, ref_type=<RefType.FlowProperty: 'FlowProperty'>), internal_id=1, is_avoided_product=False, is_input=False, is_quantitative_reference=False, location=None, uncertainty=None, unit=Ref(id='20aadc24-a391-41cf-b340-3e4529f44bde', category=None, description=None, flow_type=None, library=None, location=None, name='kg', process_type=None, ref_unit=None, ref_type=<RefType.Unit: 'Unit'>)), Exchange(amount=34.738181818181815, amount_formula='1*slag', base_uncertainty=None, cost_formula=None, cost_value=None, currency=None, default_provider=None, description='Solid waste', dq_entry=None, flow=Ref(id='46f4e652-0632-4231-abfe-b52cdc8257e5', category='Technosphere Flows', description=None, flow_type=<FlowType.PRODUCT_FLOW: 'PRODUCT_FLOW'>, library=None, location=None, name='Waste (solid) [Waste for disposal]', process_type=None, ref_unit='stacks', ref_type=<RefType.Flow: 'Flow'>), flow_property=Ref(id='93a60a56-a3c8-11da-a746-0800200b9a66', category=None, description=None, flow_type=None, library=None, location=None, name='Mass', process_type=None, ref_unit=None, ref_type=<RefType.FlowProperty: 'FlowProperty'>), internal_id=1, is_avoided_product=False, is_input=False, is_quantitative_reference=False, location=None, uncertainty=None, unit=Ref(id='20aadc24-a391-41cf-b340-3e4529f44bde', category=None, description=None, flow_type=None, library=None, location=None, name='kg', process_type=None, ref_unit=None, ref_type=<RefType.Unit: 'Unit'>)), Exchange(amount=0.0, amount_formula='1*so2_em', base_uncertainty=None, cost_formula=None, cost_value=None, currency=None, default_provider=None, description='Emission to air', dq_entry=None, flow=Ref(id='6277507b-9a1e-4940-a31e-f27ddcaa7c53', category='Technosphere Flows', description=None, flow_type=<FlowType.PRODUCT_FLOW: 'PRODUCT_FLOW'>, library=None, location=None, name='Sulphur dioxide [Inorganic emissions to air]', process_type=None, ref_unit='kg', ref_type=<RefType.Flow: 'Flow'>), flow_property=Ref(id='93a60a56-a3c8-11da-a746-0800200b9a66', category=None, description=None, flow_type=None, library=None, location=None, name='Mass', process_type=None, ref_unit=None, ref_type=<RefType.FlowProperty: 'FlowProperty'>), internal_id=1, is_avoided_product=False, is_input=False, is_quantitative_reference=False, location=None, uncertainty=None, unit=Ref(id='20aadc24-a391-41cf-b340-3e4529f44bde', category=None, description=None, flow_type=None, library=None, location=None, name='kg', process_type=None, ref_unit=None, ref_type=<RefType.Unit: 'Unit'>)), Exchange(amount=154.4448007872, amount_formula='1*wat_discharge', base_uncertainty=None, cost_formula=None, cost_value=None, currency=None, default_provider=None, description='emission to water', dq_entry=None, flow=Ref(id='84515cb9-a544-41a9-9fed-1ff069f09b8f', category='Technosphere Flows', description=None, flow_type=<FlowType.PRODUCT_FLOW: 'PRODUCT_FLOW'>, library=None, location=None, name='Water (wastewater) [Water]', process_type=None, ref_unit='L', ref_type=<RefType.Flow: 'Flow'>), flow_property=Ref(id='93a60a56-a3c8-11da-a746-0800200b9a66', category=None, description=None, flow_type=None, library=None, location=None, name='Mass', process_type=None, ref_unit=None, ref_type=<RefType.FlowProperty: 'FlowProperty'>), internal_id=1, is_avoided_product=False, is_input=False, is_quantitative_reference=False, location=None, uncertainty=None, unit=Ref(id='b80a512e-e402-4363-8ad0-7d02dcf4a459', category=None, description=None, flow_type=None, library=None, location=None, name='l', process_type=None, ref_unit=None, ref_type=<RefType.Unit: 'Unit'>))], is_infrastructure_process=None, last_change='2025-04-10T18:57:42.515068+00:00', last_internal_id=None, library=None, location=Location(id='0b3b97fa-6688-3c56-88ee-4ae80ec0c3c2', category=None, code='US', description='Test', geometry=None, last_change='2025-03-25T22:10:42.135Z', latitude=0.0, library=None, longitude=0.0, name='United States', tags=None, version='00.00.000'), name='SOFC NG and Coal plant with CCUS', parameters=[Parameter(id='120a0be5-6c19-454b-8db1-8bd9e5cdae07', category=None, description='[percent] Percent of fuel cell degradation allowed before replacement', formula=None, is_input_parameter=True, last_change='2025-04-10T18:57:42.704343+00:00', library=None, name='accep_deg', parameter_scope=<ParameterScope.PROCESS_SCOPE: 'PROCESS_SCOPE'>, tags=None, uncertainty=None, value=10.0, version='01.00.000'), Parameter(id='85e76ead-3303-4fbb-9f3a-b34ba0dd792f', category=None, description='[kg/MWhnet] kg CO2 released for every MWh plant output', formula=None, is_input_parameter=True, last_change='2025-04-10T18:57:42.705283+00:00', library=None, name='co2_emissions', parameter_scope=<ParameterScope.PROCESS_SCOPE: 'PROCESS_SCOPE'>, tags=None, uncertainty=None, value=9.661517481, version='01.00.000'), Parameter(id='b8e7dd88-c9e1-4642-a891-aa9ac9462238', category=None, description='[kg/Mwhnet] mass of CO2 captured for every MWh plant output', formula=None, is_input_parameter=True, last_change='2025-04-10T18:57:42.706674+00:00', library=None, name='co2_saline', parameter_scope=<ParameterScope.PROCESS_SCOPE: 'PROCESS_SCOPE'>, tags=None, uncertainty=None, value=634.4396479189995, version='01.00.000'), Parameter(id='1de90c03-e85a-42a8-a86f-13b7f0e010fe', category=None, description='[kg/MWhnet] mass of coal to generate one MWh electricity', formula=None, is_input_parameter=True, last_change='2025-04-10T18:57:42.707437+00:00', library=None, name='coal_flowrate', parameter_scope=<ParameterScope.PROCESS_SCOPE: 'PROCESS_SCOPE'>, tags=None, uncertainty=None, value=245.44295497400003, version='01.00.000'), Parameter(id='064b1c1c-c1d8-4018-bac5-92749c962a61', category=None, description='[%/yr] number of fuel cells that need replaced every year', formula=None, is_input_parameter=True, last_change='2025-04-10T18:57:42.708167+00:00', library=None, name='fc_degrade', parameter_scope=<ParameterScope.PROCESS_SCOPE: 'PROCESS_SCOPE'>, tags=None, uncertainty=None, value=1.57788, version='01.00.000'), Parameter(id='eb62f79c-5308-4cf5-9b5c-de1b75d06d07', category=None, description='[kg/MWhnet] mercury emissions to air for every MWh electricity', formula=None, is_input_parameter=True, last_change='2025-04-10T18:57:42.708894+00:00', library=None, name='hg_em', parameter_scope=<ParameterScope.PROCESS_SCOPE: 'PROCESS_SCOPE'>, tags=None, uncertainty=None, value=0.0, version='01.00.000'), Parameter(id='fea62cf2-cf00-451e-add2-790bc2417234', category=None, description='[kg/MWhnet] mass of NG to generate one MWh electricity', formula=None, is_input_parameter=True, last_change='2025-04-10T18:57:42.709617+00:00', library=None, name='ng_flowrate', parameter_scope=<ParameterScope.PROCESS_SCOPE: 'PROCESS_SCOPE'>, tags=None, uncertainty=None, value=0.0, version='01.00.000'), Parameter(id='b5d03417-6a9f-4975-9ee0-c07d110c97f3', category=None, description='[MWnet] net output electricity of plant', formula=None, is_input_parameter=True, last_change='2025-04-10T18:57:42.710334+00:00', library=None, name='net_power', parameter_scope=<ParameterScope.PROCESS_SCOPE: 'PROCESS_SCOPE'>, tags=None, uncertainty=None, value=550.0, version='01.00.000'), Parameter(id='6d57b99b-174d-48db-a01d-0b5bb968b14c', category=None, description='[kg/MWhnet] NOx emissions to air for every MWh electricity', formula=None, is_input_parameter=True, last_change='2025-04-10T18:57:42.711337+00:00', library=None, name='nox_em', parameter_scope=<ParameterScope.PROCESS_SCOPE: 'PROCESS_SCOPE'>, tags=None, uncertainty=None, value=0.0, version='01.00.000'), Parameter(id='36ee755a-e60c-4b57-b9fe-de0743ca0b67', category=None, description='[kg/MWhnet] PM emissions to air for every MWh electricity', formula=None, is_input_parameter=True, last_change='2025-04-10T18:57:42.711855+00:00', library=None, name='pm_em', parameter_scope=<ParameterScope.PROCESS_SCOPE: 'PROCESS_SCOPE'>, tags=None, uncertainty=None, value=0.0, version='01.00.000'), Parameter(id='f1753630-48e4-4f5b-bfc5-0232b4c4e339', category=None, description='[kg/MWhnet] mass solid slag waste discarded for every one MWh electricity', formula=None, is_input_parameter=True, last_change='2025-04-10T18:57:42.712330+00:00', library=None, name='slag', parameter_scope=<ParameterScope.PROCESS_SCOPE: 'PROCESS_SCOPE'>, tags=None, uncertainty=None, value=34.738181818181815, version='01.00.000'), Parameter(id='d4868d3f-0c5d-4830-8490-70de76d4f0df', category=None, description='[kg/MWhnet] SO2 emissions to air for every MWh electricity', formula=None, is_input_parameter=True, last_change='2025-04-10T18:57:42.712777+00:00', library=None, name='so2_em', parameter_scope=<ParameterScope.PROCESS_SCOPE: 'PROCESS_SCOPE'>, tags=None, uncertainty=None, value=0.0, version='01.00.000'), Parameter(id='f3090c14-24e3-47b8-9fd1-b48551e7c3de', category=None, description='[L/MWhnet] water returned to water table for every MWh output', formula=None, is_input_parameter=True, last_change='2025-04-10T18:57:42.713217+00:00', library=None, name='wat_discharge', parameter_scope=<ParameterScope.PROCESS_SCOPE: 'PROCESS_SCOPE'>, tags=None, uncertainty=None, value=154.4448007872, version='01.00.000'), Parameter(id='a82cb84d-6a34-46a0-a188-19e3f5f83d76', category=None, description='[L/MWhnet] water withdrawn from water table for every one MWh electricity', formula=None, is_input_parameter=True, last_change='2025-04-10T18:57:42.713657+00:00', library=None, name='wat_withdrawal', parameter_scope=<ParameterScope.PROCESS_SCOPE: 'PROCESS_SCOPE'>, tags=None, uncertainty=None, value=639.2528118143999, version='01.00.000'), Parameter(id='8d83c72c-9f21-4381-b794-ace803f909a8', category=None, description='[MWgross] gross output electricity of plant', formula=None, is_input_parameter=True, last_change='2025-04-10T18:57:42.714095+00:00', library=None, name='gross_power', parameter_scope=<ParameterScope.PROCESS_SCOPE: 'PROCESS_SCOPE'>, tags=None, uncertainty=None, value=653.7, version='01.00.000'), Parameter(id='de131934-089d-4df9-9e67-814c9bce91ee', category=None, description='[percent] Fraction of the year that the plant is assumed to operate', formula=None, is_input_parameter=True, last_change='2025-04-10T18:57:42.714529+00:00', library=None, name='cap_factor', parameter_scope=<ParameterScope.PROCESS_SCOPE: 'PROCESS_SCOPE'>, tags=None, uncertainty=None, value=90.0, version='01.00.000'), Parameter(id='bee4ee88-aeb2-4815-8acb-97512478593a', category=None, description='[stacks/MWhnet] Fraction of a fuel cell needed to produce 1 MWh of electricity', formula='(fc_degrade/100)/(8766*(cap_factor/100)*net_power)*(100/accep_deg)*gross_power*1000', is_input_parameter=False, last_change='2025-04-10T18:57:42.714962+00:00', library=None, name='fc_demand', parameter_scope=<ParameterScope.PROCESS_SCOPE: 'PROCESS_SCOPE'>, tags=None, uncertainty=None, value=None, version='01.00.000'), Parameter(id='d32417bb-a949-428c-9cd6-59789be9f399', category=None, description='[stacks/MWhnet] Fraction of a fuel cell spent and disposed of per MWh', formula='fc_demand', is_input_parameter=False, last_change='2025-04-10T18:57:42.715401+00:00', library=None, name='fc_waste', parameter_scope=<ParameterScope.PROCESS_SCOPE: 'PROCESS_SCOPE'>, tags=None, uncertainty=None, value=None, version='01.00.000')], process_documentation=ProcessDocumentation(completeness_description='All Relevant Flows Captured', compliance_declarations=None, creation_date='2025-04-10T18:57:42.683797+00:00', data_collection_description=None, data_documentor=Ref(id='ace1ecdf-69e8-40d5-863c-0ad85891edab', category=None, description=None, flow_type=None, library=None, location=None, name='NETL LCA Team', process_type=None, ref_unit=None, ref_type=<RefType.Actor: 'Actor'>), data_generator=Ref(id='ace1ecdf-69e8-40d5-863c-0ad85891edab', category=None, description=None, flow_type=None, library=None, location=None, name='NETL LCA Team', process_type=None, ref_unit=None, ref_type=<RefType.Actor: 'Actor'>), data_selection_description=None, data_set_owner=Ref(id='ace1ecdf-69e8-40d5-863c-0ad85891edab', category=None, description=None, flow_type=None, library=None, location=None, name='NETL LCA Team', process_type=None, ref_unit=None, ref_type=<RefType.Actor: 'Actor'>), data_treatment_description=None, flow_completeness=None, geography_description=None, intended_application=None, inventory_method_description='Gate-to-Gate Process (GG)', is_copyright_protected=None, modeling_constants_description=None, project_description=None, publication=None, restrictions_description='This project was funded by the Department of Energy, National Energy Technology Laboratory an agency of the United States Government, through a support contract. Neither the United States Government nor any agency thereof, nor any of its employees, nor the support contractor, nor any of their employees, makes any warranty, expressor implied, or assumes any legal liability or responsibility for the accuracy, completeness, or usefulness of any information, apparatus, product, or process disclosed, or represents that its use would not infringe privately owned rights.  Reference herein to any specific commercial product, process, or service by trade name, trademark, manufacturer, or otherwise does not necessarily constitute or imply its endorsement, recommendation, or favoring by the United States Government or any agency thereof. The views and opinions of authors expressed herein do not necessarily state or reflect those of the United States Government or any agency thereof.', reviews=None, sampling_description=None, sources=[Ref(id='4f00e6f0-66fa-489c-b407-f4b288e1f3cb', category=None, description=None, flow_type=None, library=None, location=None, name='NETL. (2014). Techno-Economic Analysis of Integrated Gasification Fuel Cell Systems Created by Energy Sector Planning and Analysis for SEAP & OPPB', process_type=None, ref_unit=None, ref_type=<RefType.Source: 'Source'>), Ref(id='79be4066-1a40-4d52-9ce6-108200d63394', category=None, description=None, flow_type=None, library=None, location=None, name='NETL. (2015). Technoeconomic Analysis of Natural Gas Fuel Cell Plant Configurations  ', process_type=None, ref_unit=None, ref_type=<RefType.Source: 'Source'>)], technology_description=None, time_description=None, use_advice=None, valid_from='2015-01-01', valid_until='2020-12-31'), process_type=<ProcessType.UNIT_PROCESS: 'UNIT_PROCESS'>, social_aspects=None, social_dq_system=None, tags=None, version='01.00.000')"
      ]
     },
     "execution_count": 55,
     "metadata": {},
     "output_type": "execute_result"
    }
   ],
   "source": []
  },
  {
   "cell_type": "code",
   "execution_count": 26,
   "id": "7a39fff7-678f-46e8-a324-ca2003c86fd6",
   "metadata": {},
   "outputs": [],
   "source": [
    "# I think dup 1 is the missing one..."
   ]
  },
  {
   "cell_type": "code",
   "execution_count": null,
   "id": "35c53da6-884f-46c0-9b0d-d392320a97f5",
   "metadata": {},
   "outputs": [],
   "source": []
  },
  {
   "cell_type": "code",
   "execution_count": 44,
   "id": "46d05527-e52e-4155-8cce-5edefe3ff6c0",
   "metadata": {},
   "outputs": [
    {
     "name": "stdout",
     "output_type": "stream",
     "text": [
      "529\n",
      "527\n",
      "['DS_Stage1_O_Surface_Coal_Mine_Water_2013.02.xlsx', 'DS_Stage2_C_Coal_Railcar_244000_lbs_Net_Capacity_2009-01.xls']\n"
     ]
    },
    {
     "ename": "KeyError",
     "evalue": "'DS_Stage1_O_Surface_Coal_Mine_Water_2013.02.xlsx'",
     "output_type": "error",
     "traceback": [
      "\u001b[0;31m---------------------------------------------------------------------------\u001b[0m",
      "\u001b[0;31mKeyError\u001b[0m                                  Traceback (most recent call last)",
      "Cell \u001b[0;32mIn[44], line 24\u001b[0m\n\u001b[1;32m     21\u001b[0m \u001b[38;5;28mprint\u001b[39m(missing_items)\n\u001b[1;32m     23\u001b[0m \u001b[38;5;28;01mfor\u001b[39;00m item \u001b[38;5;129;01min\u001b[39;00m missing_items:\n\u001b[0;32m---> 24\u001b[0m     \u001b[38;5;28mprint\u001b[39m(process_names[item])\n",
      "\u001b[0;31mKeyError\u001b[0m: 'DS_Stage1_O_Surface_Coal_Mine_Water_2013.02.xlsx'"
     ]
    }
   ],
   "source": []
  },
  {
   "cell_type": "code",
   "execution_count": 47,
   "id": "bcfa1ce9-3122-4307-b95f-dbbaa5c08ef2",
   "metadata": {},
   "outputs": [
    {
     "data": {
      "text/plain": [
       "528"
      ]
     },
     "execution_count": 47,
     "metadata": {},
     "output_type": "execute_result"
    }
   ],
   "source": []
  },
  {
   "cell_type": "code",
   "execution_count": 49,
   "id": "14d7c6db-f51f-4377-a043-8518bcbe1ee2",
   "metadata": {},
   "outputs": [
    {
     "data": {
      "text/html": [
       "<div>\n",
       "<style scoped>\n",
       "    .dataframe tbody tr th:only-of-type {\n",
       "        vertical-align: middle;\n",
       "    }\n",
       "\n",
       "    .dataframe tbody tr th {\n",
       "        vertical-align: top;\n",
       "    }\n",
       "\n",
       "    .dataframe thead th {\n",
       "        text-align: right;\n",
       "    }\n",
       "</style>\n",
       "<table border=\"1\" class=\"dataframe\">\n",
       "  <thead>\n",
       "    <tr style=\"text-align: right;\">\n",
       "      <th></th>\n",
       "      <th>Name</th>\n",
       "      <th>Value</th>\n",
       "    </tr>\n",
       "  </thead>\n",
       "  <tbody>\n",
       "    <tr>\n",
       "      <th>0</th>\n",
       "      <td>Process Name</td>\n",
       "      <td>Coal Railcar, 244000 lbs Net Capacity, Constru...</td>\n",
       "    </tr>\n",
       "    <tr>\n",
       "      <th>1</th>\n",
       "      <td>Process Description</td>\n",
       "      <td>The amount of aluminum and steel used in the c...</td>\n",
       "    </tr>\n",
       "    <tr>\n",
       "      <th>2</th>\n",
       "      <td>Files</td>\n",
       "      <td>This unit process is composed of this document...</td>\n",
       "    </tr>\n",
       "    <tr>\n",
       "      <th>3</th>\n",
       "      <td>Summary and Calculations Worksheets</td>\n",
       "      <td>As shown below, this document contains 3 summa...</td>\n",
       "    </tr>\n",
       "    <tr>\n",
       "      <th>4</th>\n",
       "      <td>How to Cite This Document</td>\n",
       "      <td>This document should be cited as: NETL (2009)....</td>\n",
       "    </tr>\n",
       "    <tr>\n",
       "      <th>5</th>\n",
       "      <td>Additional Notes</td>\n",
       "      <td>For the calculations sheets, values Bibliograp...</td>\n",
       "    </tr>\n",
       "    <tr>\n",
       "      <th>6</th>\n",
       "      <td>Disclaimer</td>\n",
       "      <td></td>\n",
       "    </tr>\n",
       "    <tr>\n",
       "      <th>7</th>\n",
       "      <td>Functional unit: Amount</td>\n",
       "      <td>1</td>\n",
       "    </tr>\n",
       "    <tr>\n",
       "      <th>8</th>\n",
       "      <td>Functional unit: Unit</td>\n",
       "      <td>piece (pcs)</td>\n",
       "    </tr>\n",
       "    <tr>\n",
       "      <th>9</th>\n",
       "      <td>NaN</td>\n",
       "      <td>of</td>\n",
       "    </tr>\n",
       "    <tr>\n",
       "      <th>10</th>\n",
       "      <td>Functional unit: Material</td>\n",
       "      <td>Coal Railcar, 244000 lbs Net Capacity</td>\n",
       "    </tr>\n",
       "    <tr>\n",
       "      <th>11</th>\n",
       "      <td>Description</td>\n",
       "      <td>The amount of aluminum and steel used in the c...</td>\n",
       "    </tr>\n",
       "    <tr>\n",
       "      <th>12</th>\n",
       "      <td>DQI</td>\n",
       "      <td>3,2,1,2,1</td>\n",
       "    </tr>\n",
       "    <tr>\n",
       "      <th>13</th>\n",
       "      <td>Geographical Coverage</td>\n",
       "      <td>US</td>\n",
       "    </tr>\n",
       "    <tr>\n",
       "      <th>14</th>\n",
       "      <td>Region</td>\n",
       "      <td>NaN</td>\n",
       "    </tr>\n",
       "    <tr>\n",
       "      <th>15</th>\n",
       "      <td>Year Data Best Represents</td>\n",
       "      <td>2008</td>\n",
       "    </tr>\n",
       "    <tr>\n",
       "      <th>16</th>\n",
       "      <td>Process Type</td>\n",
       "      <td>Manufacturing Process (MP)</td>\n",
       "    </tr>\n",
       "    <tr>\n",
       "      <th>17</th>\n",
       "      <td>Process Scope</td>\n",
       "      <td>Gate-to-Gate Process (GG)</td>\n",
       "    </tr>\n",
       "    <tr>\n",
       "      <th>18</th>\n",
       "      <td>Allocation Applied</td>\n",
       "      <td>No</td>\n",
       "    </tr>\n",
       "    <tr>\n",
       "      <th>19</th>\n",
       "      <td>Completeness</td>\n",
       "      <td>Individual Relevant Flows Captured</td>\n",
       "    </tr>\n",
       "    <tr>\n",
       "      <th>20</th>\n",
       "      <td>Flows Aggregated in Data Set</td>\n",
       "      <td>NaN</td>\n",
       "    </tr>\n",
       "  </tbody>\n",
       "</table>\n",
       "</div>"
      ],
      "text/plain": [
       "                                   Name  \\\n",
       "0                          Process Name   \n",
       "1                   Process Description   \n",
       "2                                 Files   \n",
       "3   Summary and Calculations Worksheets   \n",
       "4             How to Cite This Document   \n",
       "5                      Additional Notes   \n",
       "6                            Disclaimer   \n",
       "7               Functional unit: Amount   \n",
       "8                 Functional unit: Unit   \n",
       "9                                   NaN   \n",
       "10            Functional unit: Material   \n",
       "11                          Description   \n",
       "12                                  DQI   \n",
       "13                Geographical Coverage   \n",
       "14                               Region   \n",
       "15            Year Data Best Represents   \n",
       "16                         Process Type   \n",
       "17                        Process Scope   \n",
       "18                   Allocation Applied   \n",
       "19                         Completeness   \n",
       "20         Flows Aggregated in Data Set   \n",
       "\n",
       "                                                Value  \n",
       "0   Coal Railcar, 244000 lbs Net Capacity, Constru...  \n",
       "1   The amount of aluminum and steel used in the c...  \n",
       "2   This unit process is composed of this document...  \n",
       "3   As shown below, this document contains 3 summa...  \n",
       "4   This document should be cited as: NETL (2009)....  \n",
       "5   For the calculations sheets, values Bibliograp...  \n",
       "6                                                      \n",
       "7                                                   1  \n",
       "8                                         piece (pcs)  \n",
       "9                                                  of  \n",
       "10              Coal Railcar, 244000 lbs Net Capacity  \n",
       "11  The amount of aluminum and steel used in the c...  \n",
       "12                                          3,2,1,2,1  \n",
       "13                                                 US  \n",
       "14                                                NaN  \n",
       "15                                               2008  \n",
       "16                         Manufacturing Process (MP)  \n",
       "17                          Gate-to-Gate Process (GG)  \n",
       "18                                                 No  \n",
       "19                 Individual Relevant Flows Captured  \n",
       "20                                                NaN  "
      ]
     },
     "execution_count": 49,
     "metadata": {},
     "output_type": "execute_result"
    }
   ],
   "source": []
  },
  {
   "cell_type": "code",
   "execution_count": 51,
   "id": "0080d67b-86d4-499a-a125-cc7b97da2ade",
   "metadata": {},
   "outputs": [],
   "source": [
    "p_all = client.get_all(o.Process)\n",
    "p = p_all[0]"
   ]
  },
  {
   "cell_type": "code",
   "execution_count": 52,
   "id": "373edc16-f5b3-4bfd-b07a-a754dbd84c06",
   "metadata": {},
   "outputs": [
    {
     "data": {
      "text/plain": [
       "'Emissions and energy use associated with the production of cement from dry kilns with precalciners and carbon capture at the kiln.\\n\\nThis document should be cited as: NETL (2022). NETL Life Cycle Inventory Data – Unit Process: Cement production with carbon capture. U.S. Department of Energy, National Energy Technology Laboratory. Last Updated: December 2022 (version 01). www.netl.doe.gov/energy-analyses (http://www.netl.doe.gov/energy-analyses)'"
      ]
     },
     "execution_count": 52,
     "metadata": {},
     "output_type": "execute_result"
    }
   ],
   "source": [
    "p.description"
   ]
  }
 ],
 "metadata": {
  "kernelspec": {
   "display_name": "Python 3 (ipykernel)",
   "language": "python",
   "name": "python3"
  },
  "language_info": {
   "codemirror_mode": {
    "name": "ipython",
    "version": 3
   },
   "file_extension": ".py",
   "mimetype": "text/x-python",
   "name": "python",
   "nbconvert_exporter": "python",
   "pygments_lexer": "ipython3",
   "version": "3.11.7"
  }
 },
 "nbformat": 4,
 "nbformat_minor": 5
}
