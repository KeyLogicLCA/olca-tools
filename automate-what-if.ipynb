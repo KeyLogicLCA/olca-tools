{
 "cells": [
  {
   "cell_type": "markdown",
   "metadata": {},
   "source": [
    "# Automate 'What if?' Scenarios in openLCA\n",
    "This script opens an IPC server connection with an active openLCA database that contains electricity baseline generation processes and has an impact assessment method (e.g., TRACI 2.1 with appropriate flow mappings).\n",
    "The script will search for the generation-level processes, update their exchange values based on a given 'what-if' scenario, run the US-consumption level product system through TRACI impact assessment, and save their results to Excel.\n",
    "\n",
    "Based on 'Generate Product Systems and Results from openLCA Processes' Jupyter notebook created by M. Jamieson and updated to v2 by T.W. Davis.\n",
    "Last updated by T.W. Davis (2025-01-16)."
   ]
  },
  {
   "cell_type": "markdown",
   "metadata": {},
   "source": [
    "## Getting things ready"
   ]
  },
  {
   "cell_type": "code",
   "execution_count": 1,
   "metadata": {
    "scrolled": true
   },
   "outputs": [],
   "source": [
    "# Import necessary modules\n",
    "import os\n",
    "import re\n",
    "\n",
    "try:\n",
    "    import olca_ipc as olca\n",
    "    import olca_schema as o\n",
    "except ModuleNotFoundError:\n",
    "    print(\"Run the install olca-ipc line below\")\n",
    "import pandas as pd\n",
    "import matplotlib.pyplot as plt"
   ]
  },
  {
   "cell_type": "markdown",
   "metadata": {},
   "source": [
    "If you received a warning message above, run the following; otherwise skip."
   ]
  },
  {
   "cell_type": "code",
   "execution_count": null,
   "metadata": {},
   "outputs": [],
   "source": [
    "!pip install olca-ipc"
   ]
  },
  {
   "cell_type": "markdown",
   "metadata": {},
   "source": [
    "Prepare matlab configuration for Jupyter notebooks."
   ]
  },
  {
   "cell_type": "code",
   "execution_count": 2,
   "metadata": {},
   "outputs": [],
   "source": [
    "%matplotlib inline"
   ]
  },
  {
   "cell_type": "markdown",
   "metadata": {},
   "source": [
    "For this study, I did the following:\n",
    "\n",
    "1. Download the Electricity Baseline database from the [Federal LCA Commons](https://www.lcacommons.gov/lca-collaboration/Federal_LCA_Commons/US_electricity_baseline/datasets), and import it into a new openLCA database.\n",
    "2. Activate the database (if not already)\n",
    "3. Start the IPC Service"
   ]
  },
  {
   "cell_type": "markdown",
   "metadata": {},
   "source": [
    "In openLCA, activate the database you want to interact with and go to _Tools > Developer tools > IPC Server_. Set the servers port number and click the green play button (don't close or stop while running the code below). Use the same number below.\n",
    "\n",
    "__Remember to do this on a copy database!__\n",
    "\n",
    "The default port number is 8080."
   ]
  },
  {
   "cell_type": "code",
   "execution_count": 3,
   "metadata": {
    "scrolled": true
   },
   "outputs": [],
   "source": [
    "my_port_number = 8080\n",
    "olca_client = olca.Client(my_port_number)"
   ]
  },
  {
   "cell_type": "markdown",
   "metadata": {},
   "source": [
    "## Searching the database"
   ]
  },
  {
   "cell_type": "markdown",
   "metadata": {},
   "source": [
    "In the cells below, let's use regex to search for generation processes."
   ]
  },
  {
   "cell_type": "code",
   "execution_count": 4,
   "metadata": {},
   "outputs": [],
   "source": [
    "# Remember to oupdate only U.S. fuel categories (keep Canada's 'ALL' category unchanged).\n",
    "FUEL_CATS = [\n",
    "    \"ALL\",\n",
    "    \"BIOMASS\",\n",
    "    \"COAL\",\n",
    "    \"GAS\",\n",
    "    \"GEOTHERMAL\",\n",
    "    \"HYDRO\",\n",
    "    \"MIXED\",\n",
    "    \"NUCLEAR\",\n",
    "    \"OFSL\",\n",
    "    \"OIL\",\n",
    "    \"OTHF\",\n",
    "    \"SOLAR\",\n",
    "    \"SOLARTHERMAL\",\n",
    "    \"WIND\",\n",
    "]"
   ]
  },
  {
   "cell_type": "code",
   "execution_count": 5,
   "metadata": {},
   "outputs": [],
   "source": [
    "# Only query for BA at-grid generation mix processes\n",
    "matching_regex = [\n",
    "    \"Electricity; at grid; generation mix - .+\",\n",
    "]\n",
    "combined = \"(\" + \")|(\".join(matching_regex) + \")\""
   ]
  },
  {
   "cell_type": "markdown",
   "metadata": {},
   "source": [
    "Find all the references to processes in your database."
   ]
  },
  {
   "cell_type": "code",
   "execution_count": 6,
   "metadata": {},
   "outputs": [],
   "source": [
    "my_processes = olca_client.get_descriptors(model_type=o.Process)"
   ]
  },
  {
   "cell_type": "markdown",
   "metadata": {},
   "source": [
    "Now, filter processes to only those that match our expressions above."
   ]
  },
  {
   "cell_type": "code",
   "execution_count": 7,
   "metadata": {},
   "outputs": [
    {
     "name": "stdout",
     "output_type": "stream",
     "text": [
      "Filtering 606 processes...\n",
      "Found 68 matching processes!\n"
     ]
    }
   ],
   "source": [
    "print(\"Filtering %d processes...\" % len(my_processes))\n",
    "my_processes = [x for x in my_processes if re.match(combined, x.name)]\n",
    "print(\"Found %d matching processes!\" % len(my_processes))"
   ]
  },
  {
   "cell_type": "markdown",
   "metadata": {},
   "source": [
    "Sort by name for convenience."
   ]
  },
  {
   "cell_type": "code",
   "execution_count": 8,
   "metadata": {},
   "outputs": [],
   "source": [
    "_sorted_names = sorted([x.name for x in my_processes])\n",
    "_sorted_p = []\n",
    "for name in _sorted_names:\n",
    "    for p in my_processes:\n",
    "        if p.name == name:\n",
    "            _sorted_p.append(p)\n",
    "my_processes = _sorted_p"
   ]
  },
  {
   "cell_type": "markdown",
   "metadata": {},
   "source": [
    "Now, let's find an impact method in the database.\n",
    "Be sure the impact name matches what is in your active database."
   ]
  },
  {
   "cell_type": "code",
   "execution_count": 9,
   "metadata": {},
   "outputs": [],
   "source": [
    "impact_name = \"TRACI 2.1 (NETL mod)\"\n",
    "traci = olca_client.find(model_type=o.ImpactMethod, name=impact_name)"
   ]
  },
  {
   "cell_type": "code",
   "execution_count": 10,
   "metadata": {},
   "outputs": [
    {
     "data": {
      "text/plain": [
       "Ref(id='68032cc7-d9dd-322f-89b4-9d6c45a886a3', category=None, description=None, flow_type=None, location=None, name='TRACI 2.1 (NETL mod)', process_type=None, ref_unit=None, ref_type=<RefType.ImpactMethod: 'ImpactMethod'>)"
      ]
     },
     "execution_count": 10,
     "metadata": {},
     "output_type": "execute_result"
    }
   ],
   "source": [
    "traci"
   ]
  },
  {
   "cell_type": "markdown",
   "metadata": {},
   "source": [
    "We will be calculating the impact assessment using the same U.S. consumption mix product system, so let's find it now!"
   ]
  },
  {
   "cell_type": "code",
   "execution_count": 11,
   "metadata": {},
   "outputs": [],
   "source": [
    "ps_ref = olca_client.find(model_type=o.ProductSystem, name=\"Electricity; at user; consumption mix - US - US\")"
   ]
  },
  {
   "cell_type": "code",
   "execution_count": 12,
   "metadata": {},
   "outputs": [
    {
     "data": {
      "text/plain": [
       "Ref(id='8809276d-9d9f-3362-8573-6d99959272f5', category=None, description=None, flow_type=None, location=None, name='Electricity; at user; consumption mix - US - US', process_type=None, ref_unit=None, ref_type=<RefType.ProductSystem: 'ProductSystem'>)"
      ]
     },
     "execution_count": 12,
     "metadata": {},
     "output_type": "execute_result"
    }
   ],
   "source": [
    "ps_ref"
   ]
  },
  {
   "cell_type": "markdown",
   "metadata": {
    "jp-MarkdownHeadingCollapsed": true
   },
   "source": [
    "## Test on one process\n",
    "(this is just for testing; you can skip over this part)"
   ]
  },
  {
   "cell_type": "code",
   "execution_count": null,
   "metadata": {},
   "outputs": [],
   "source": [
    "results = {}"
   ]
  },
  {
   "cell_type": "code",
   "execution_count": null,
   "metadata": {},
   "outputs": [],
   "source": [
    "p = my_processes[11]\n",
    "p.name"
   ]
  },
  {
   "cell_type": "code",
   "execution_count": null,
   "metadata": {
    "scrolled": true
   },
   "outputs": [],
   "source": [
    "calc_setup = o.CalculationSetup(\n",
    "    target=ps_ref,\n",
    "    impact_method=traci,\n",
    ")\n",
    "my_result = olca_client.calculate(calc_setup)\n",
    "my_result.wait_until_ready()\n",
    "results[ps_ref.name] = my_result"
   ]
  },
  {
   "cell_type": "code",
   "execution_count": null,
   "metadata": {},
   "outputs": [],
   "source": [
    "results"
   ]
  },
  {
   "cell_type": "markdown",
   "metadata": {},
   "source": [
    "## Run for our case study\n",
    "First, let's set up the scenarios"
   ]
  },
  {
   "cell_type": "code",
   "execution_count": 13,
   "metadata": {},
   "outputs": [],
   "source": [
    "scenarios = {\n",
    "    \"solar_100\": {k:0 for k in FUEL_CATS},\n",
    "    \"wind_100\": {k:0 for k in FUEL_CATS},\n",
    "    \"hydro_100\": {k:0 for k in FUEL_CATS},\n",
    "    \"nuclear_100\": {k:0 for k in FUEL_CATS},\n",
    "}\n",
    "scenarios['solar_100']['SOLAR'] = 1\n",
    "scenarios['wind_100']['WIND'] = 1\n",
    "scenarios['hydro_100']['HYDRO'] = 1\n",
    "scenarios['nuclear_100']['NUCLEAR'] = 1"
   ]
  },
  {
   "cell_type": "markdown",
   "metadata": {},
   "source": [
    "Next, define a regular expression to search and extract the primary fuel name from an exchange description."
   ]
  },
  {
   "cell_type": "code",
   "execution_count": 14,
   "metadata": {},
   "outputs": [],
   "source": [
    "q_fuel = re.compile(\"^from (\\\\w+) - (.*)$\")"
   ]
  },
  {
   "cell_type": "markdown",
   "metadata": {},
   "source": [
    "Then, let's go through each scenario (adding a dry baseline run for comparison sake), and calculate the impact results of each, saving the results to a dictionary for further analysis later on in this notebook."
   ]
  },
  {
   "cell_type": "code",
   "execution_count": 15,
   "metadata": {},
   "outputs": [],
   "source": [
    "# Initialize empty results dictionary\n",
    "results = {}\n",
    "\n",
    "# Define all scenarios adding a baseline scenario to list.\n",
    "all_scenarios = ['baseline',]\n",
    "all_scenarios += [x for x in scenarios.keys()]\n",
    "scenario = None\n",
    "\n",
    "# Run each 'what-if' scenario\n",
    "# NOTE: consider saving the baseline exchange amounts to\n",
    "#   \"put it back together\", else you are left with the last\n",
    "#   what-if scenario.\n",
    "for s_name in all_scenarios:\n",
    "    for p in my_processes:\n",
    "        # Get the process object for updating.\n",
    "        p_obj = olca_client.get(model_type=o.Process, uid=p.id)\n",
    "        # Update non-baseline scenarios\n",
    "        if s_name != 'baseline':\n",
    "            scenario = scenarios[s_name]\n",
    "            # Loop through input exchanges\n",
    "            num_ex = len(p_obj.exchanges)\n",
    "            for i in range(num_ex):\n",
    "                ex = p_obj.exchanges[i]\n",
    "                # only look at inputs\n",
    "                if ex.is_input:\n",
    "                    # Determine the fuel type\n",
    "                    r = q_fuel.match(ex.description)\n",
    "                    if r:\n",
    "                        f_name = r.group(1)\n",
    "                        # Determine the new mix\n",
    "                        f_mix = scenario[f_name]\n",
    "                        # Don't change Canada\n",
    "                        if f_name == 'ALL':\n",
    "                            f_mix = ex.amount\n",
    "                        # Update the local amount\n",
    "                        p_obj.exchanges[i].amount = f_mix\n",
    "                    else:\n",
    "                        print(\"Failed to find fule for %s %s\" % (p_obj.name, ex.description))\n",
    "            # Push the change to the database:\n",
    "            olca_client.put(p_obj)\n",
    "\n",
    "    # Perform calculation setup\n",
    "    # https://greendelta.github.io/openLCA-ApiDoc/results/calculate.html\n",
    "    calc_setup = o.CalculationSetup(\n",
    "        target=ps_ref,\n",
    "        impact_method=traci,\n",
    "    )\n",
    "\n",
    "    # Save the results\n",
    "    my_result = olca_client.calculate(calc_setup)\n",
    "    my_result.wait_until_ready()\n",
    "    results[s_name] = my_result"
   ]
  },
  {
   "cell_type": "markdown",
   "metadata": {},
   "source": [
    "## Transform the results"
   ]
  },
  {
   "cell_type": "markdown",
   "metadata": {},
   "source": [
    "Here we turn the calculation type into something useful."
   ]
  },
  {
   "cell_type": "code",
   "execution_count": 16,
   "metadata": {},
   "outputs": [
    {
     "data": {
      "text/plain": [
       "{'baseline': Result(uid='42e478b8-bc44-448e-8c99-18a109150e9a', client=<olca_ipc.ipc.Client object at 0x11f87e410>, error=None),\n",
       " 'solar_100': Result(uid='571d9f5d-7d62-403c-b127-fb3c1461fbe7', client=<olca_ipc.ipc.Client object at 0x11f87e410>, error=None),\n",
       " 'wind_100': Result(uid='30538c31-89a2-470d-97e3-8ff5f35255b8', client=<olca_ipc.ipc.Client object at 0x11f87e410>, error=None),\n",
       " 'hydro_100': Result(uid='45abfc1c-ec0e-47f7-9560-6398429b45a8', client=<olca_ipc.ipc.Client object at 0x11f87e410>, error=None),\n",
       " 'nuclear_100': Result(uid='9ec203c5-9d6f-4102-86c1-f728d5640e83', client=<olca_ipc.ipc.Client object at 0x11f87e410>, error=None)}"
      ]
     },
     "execution_count": 16,
     "metadata": {},
     "output_type": "execute_result"
    }
   ],
   "source": [
    "results"
   ]
  },
  {
   "cell_type": "code",
   "execution_count": 17,
   "metadata": {},
   "outputs": [],
   "source": [
    "# Initialize empty lists for storing results.\n",
    "list_of_impact_results_tuples = []\n",
    "list_of_inventory_results_tuples = []\n",
    "\n",
    "# Loop through the dictionary (should be the names of product systems)\n",
    "for name in results.keys():\n",
    "    res = results[name]\n",
    "    imp_results = res.get_total_impacts()\n",
    "    inv_results = res.get_total_flows()\n",
    "    if imp_results is not None:\n",
    "        for imp_result in imp_results:\n",
    "            # Get the info out of the impact_result type\n",
    "            imp_tuple = (name, imp_result.to_dict())\n",
    "            # Build a list of tuples to store the product system name\n",
    "            # and the results dictionary.\n",
    "            list_of_impact_results_tuples.append(imp_tuple)\n",
    "    if inv_results is not None:\n",
    "        for inv_result in inv_results:\n",
    "            inv_tuple = (name,inv_result.to_dict())\n",
    "            list_of_inventory_results_tuples.append(inv_tuple)"
   ]
  },
  {
   "cell_type": "markdown",
   "metadata": {},
   "source": [
    "The next few cells are used to turn our data into data frames and process the two different results types.\n",
    "Initially the data frames include scenario names and then a column of dictionaries that store the results.\n",
    "The dictionaries need to be transformed into columns. \n",
    "The two results types are stored as CSVs."
   ]
  },
  {
   "cell_type": "code",
   "execution_count": 18,
   "metadata": {},
   "outputs": [],
   "source": [
    "results_df = pd.DataFrame(\n",
    "    list_of_impact_results_tuples,\n",
    "    columns=[\"scenario\", \"imp_result_dict\"]\n",
    ")"
   ]
  },
  {
   "cell_type": "code",
   "execution_count": 19,
   "metadata": {},
   "outputs": [],
   "source": [
    "inv_results_df = pd.DataFrame(\n",
    "    list_of_inventory_results_tuples,\n",
    "    columns=[\"scenario\", \"inv_result_dict\"]\n",
    ")"
   ]
  },
  {
   "cell_type": "markdown",
   "metadata": {},
   "source": [
    "This is kind of a manual way to expand the dictionary store in the \"imp_result_dict\" into columns.\n",
    "There's probably some way to use pd.io.json.json_normalize to do this automatically.\n",
    "This step will pull the impact category and units"
   ]
  },
  {
   "cell_type": "code",
   "execution_count": 20,
   "metadata": {},
   "outputs": [],
   "source": [
    "exploded_impacts_names = results_df['imp_result_dict'].apply(pd.Series)[\"impactCategory\"].apply(pd.Series)[[\"name\", \"refUnit\"]]"
   ]
  },
  {
   "cell_type": "markdown",
   "metadata": {},
   "source": [
    "Pulling the values to go with our impact category and units above."
   ]
  },
  {
   "cell_type": "code",
   "execution_count": 21,
   "metadata": {},
   "outputs": [],
   "source": [
    "exploded_values = results_df['imp_result_dict'].apply(pd.Series)[\"amount\"]"
   ]
  },
  {
   "cell_type": "code",
   "execution_count": 22,
   "metadata": {
    "scrolled": true
   },
   "outputs": [
    {
     "data": {
      "text/html": [
       "<div>\n",
       "<style scoped>\n",
       "    .dataframe tbody tr th:only-of-type {\n",
       "        vertical-align: middle;\n",
       "    }\n",
       "\n",
       "    .dataframe tbody tr th {\n",
       "        vertical-align: top;\n",
       "    }\n",
       "\n",
       "    .dataframe thead th {\n",
       "        text-align: right;\n",
       "    }\n",
       "</style>\n",
       "<table border=\"1\" class=\"dataframe\">\n",
       "  <thead>\n",
       "    <tr style=\"text-align: right;\">\n",
       "      <th></th>\n",
       "      <th>scenario</th>\n",
       "      <th>impact_category</th>\n",
       "      <th>refUnit</th>\n",
       "      <th>amount</th>\n",
       "    </tr>\n",
       "  </thead>\n",
       "  <tbody>\n",
       "    <tr>\n",
       "      <th>0</th>\n",
       "      <td>baseline</td>\n",
       "      <td>Freshwater ecotoxicity</td>\n",
       "      <td>CTUeco</td>\n",
       "      <td>6.930438e+00</td>\n",
       "    </tr>\n",
       "    <tr>\n",
       "      <th>1</th>\n",
       "      <td>baseline</td>\n",
       "      <td>Human health - cancer</td>\n",
       "      <td>CTUcancer</td>\n",
       "      <td>1.458401e-08</td>\n",
       "    </tr>\n",
       "    <tr>\n",
       "      <th>2</th>\n",
       "      <td>baseline</td>\n",
       "      <td>Ozone depletion</td>\n",
       "      <td>kg CFC-11 eq</td>\n",
       "      <td>2.394570e-09</td>\n",
       "    </tr>\n",
       "    <tr>\n",
       "      <th>3</th>\n",
       "      <td>baseline</td>\n",
       "      <td>Acidification</td>\n",
       "      <td>kg SO2 eq</td>\n",
       "      <td>3.474103e-04</td>\n",
       "    </tr>\n",
       "    <tr>\n",
       "      <th>4</th>\n",
       "      <td>baseline</td>\n",
       "      <td>Human health - non-cancer</td>\n",
       "      <td>CTUnoncancer</td>\n",
       "      <td>2.710992e-06</td>\n",
       "    </tr>\n",
       "    <tr>\n",
       "      <th>5</th>\n",
       "      <td>baseline</td>\n",
       "      <td>Human health - particulate matter</td>\n",
       "      <td>PM 2.5 eq</td>\n",
       "      <td>2.884518e-05</td>\n",
       "    </tr>\n",
       "    <tr>\n",
       "      <th>6</th>\n",
       "      <td>baseline</td>\n",
       "      <td>Eutrophication</td>\n",
       "      <td>kg N eq</td>\n",
       "      <td>1.840132e-05</td>\n",
       "    </tr>\n",
       "    <tr>\n",
       "      <th>7</th>\n",
       "      <td>baseline</td>\n",
       "      <td>Smog formation</td>\n",
       "      <td>kg O3 eq</td>\n",
       "      <td>7.377510e-03</td>\n",
       "    </tr>\n",
       "    <tr>\n",
       "      <th>8</th>\n",
       "      <td>baseline</td>\n",
       "      <td>Global warming</td>\n",
       "      <td>kg CO2 eq</td>\n",
       "      <td>1.630662e-01</td>\n",
       "    </tr>\n",
       "    <tr>\n",
       "      <th>9</th>\n",
       "      <td>solar_100</td>\n",
       "      <td>Freshwater ecotoxicity</td>\n",
       "      <td>CTUeco</td>\n",
       "      <td>1.420548e-01</td>\n",
       "    </tr>\n",
       "    <tr>\n",
       "      <th>10</th>\n",
       "      <td>solar_100</td>\n",
       "      <td>Human health - cancer</td>\n",
       "      <td>CTUcancer</td>\n",
       "      <td>1.003624e-09</td>\n",
       "    </tr>\n",
       "    <tr>\n",
       "      <th>11</th>\n",
       "      <td>solar_100</td>\n",
       "      <td>Ozone depletion</td>\n",
       "      <td>kg CFC-11 eq</td>\n",
       "      <td>2.748375e-10</td>\n",
       "    </tr>\n",
       "    <tr>\n",
       "      <th>12</th>\n",
       "      <td>solar_100</td>\n",
       "      <td>Acidification</td>\n",
       "      <td>kg SO2 eq</td>\n",
       "      <td>5.105384e-04</td>\n",
       "    </tr>\n",
       "    <tr>\n",
       "      <th>13</th>\n",
       "      <td>solar_100</td>\n",
       "      <td>Human health - non-cancer</td>\n",
       "      <td>CTUnoncancer</td>\n",
       "      <td>5.868043e-08</td>\n",
       "    </tr>\n",
       "    <tr>\n",
       "      <th>14</th>\n",
       "      <td>solar_100</td>\n",
       "      <td>Human health - particulate matter</td>\n",
       "      <td>PM 2.5 eq</td>\n",
       "      <td>5.505334e-05</td>\n",
       "    </tr>\n",
       "    <tr>\n",
       "      <th>15</th>\n",
       "      <td>solar_100</td>\n",
       "      <td>Eutrophication</td>\n",
       "      <td>kg N eq</td>\n",
       "      <td>3.293617e-05</td>\n",
       "    </tr>\n",
       "    <tr>\n",
       "      <th>16</th>\n",
       "      <td>solar_100</td>\n",
       "      <td>Smog formation</td>\n",
       "      <td>kg O3 eq</td>\n",
       "      <td>1.333921e-03</td>\n",
       "    </tr>\n",
       "    <tr>\n",
       "      <th>17</th>\n",
       "      <td>solar_100</td>\n",
       "      <td>Global warming</td>\n",
       "      <td>kg CO2 eq</td>\n",
       "      <td>1.343577e-02</td>\n",
       "    </tr>\n",
       "    <tr>\n",
       "      <th>18</th>\n",
       "      <td>wind_100</td>\n",
       "      <td>Freshwater ecotoxicity</td>\n",
       "      <td>CTUeco</td>\n",
       "      <td>1.365370e-01</td>\n",
       "    </tr>\n",
       "    <tr>\n",
       "      <th>19</th>\n",
       "      <td>wind_100</td>\n",
       "      <td>Human health - cancer</td>\n",
       "      <td>CTUcancer</td>\n",
       "      <td>2.881444e-10</td>\n",
       "    </tr>\n",
       "    <tr>\n",
       "      <th>20</th>\n",
       "      <td>wind_100</td>\n",
       "      <td>Ozone depletion</td>\n",
       "      <td>kg CFC-11 eq</td>\n",
       "      <td>9.433369e-12</td>\n",
       "    </tr>\n",
       "    <tr>\n",
       "      <th>21</th>\n",
       "      <td>wind_100</td>\n",
       "      <td>Acidification</td>\n",
       "      <td>kg SO2 eq</td>\n",
       "      <td>2.177603e-05</td>\n",
       "    </tr>\n",
       "    <tr>\n",
       "      <th>22</th>\n",
       "      <td>wind_100</td>\n",
       "      <td>Human health - non-cancer</td>\n",
       "      <td>CTUnoncancer</td>\n",
       "      <td>5.372646e-08</td>\n",
       "    </tr>\n",
       "    <tr>\n",
       "      <th>23</th>\n",
       "      <td>wind_100</td>\n",
       "      <td>Human health - particulate matter</td>\n",
       "      <td>PM 2.5 eq</td>\n",
       "      <td>2.644123e-06</td>\n",
       "    </tr>\n",
       "    <tr>\n",
       "      <th>24</th>\n",
       "      <td>wind_100</td>\n",
       "      <td>Eutrophication</td>\n",
       "      <td>kg N eq</td>\n",
       "      <td>1.294095e-05</td>\n",
       "    </tr>\n",
       "    <tr>\n",
       "      <th>25</th>\n",
       "      <td>wind_100</td>\n",
       "      <td>Smog formation</td>\n",
       "      <td>kg O3 eq</td>\n",
       "      <td>2.650408e-04</td>\n",
       "    </tr>\n",
       "    <tr>\n",
       "      <th>26</th>\n",
       "      <td>wind_100</td>\n",
       "      <td>Global warming</td>\n",
       "      <td>kg CO2 eq</td>\n",
       "      <td>7.428685e-03</td>\n",
       "    </tr>\n",
       "    <tr>\n",
       "      <th>27</th>\n",
       "      <td>hydro_100</td>\n",
       "      <td>Freshwater ecotoxicity</td>\n",
       "      <td>CTUeco</td>\n",
       "      <td>1.363515e-01</td>\n",
       "    </tr>\n",
       "    <tr>\n",
       "      <th>28</th>\n",
       "      <td>hydro_100</td>\n",
       "      <td>Human health - cancer</td>\n",
       "      <td>CTUcancer</td>\n",
       "      <td>3.539446e-10</td>\n",
       "    </tr>\n",
       "    <tr>\n",
       "      <th>29</th>\n",
       "      <td>hydro_100</td>\n",
       "      <td>Ozone depletion</td>\n",
       "      <td>kg CFC-11 eq</td>\n",
       "      <td>9.038055e-12</td>\n",
       "    </tr>\n",
       "    <tr>\n",
       "      <th>30</th>\n",
       "      <td>hydro_100</td>\n",
       "      <td>Acidification</td>\n",
       "      <td>kg SO2 eq</td>\n",
       "      <td>5.755414e-05</td>\n",
       "    </tr>\n",
       "    <tr>\n",
       "      <th>31</th>\n",
       "      <td>hydro_100</td>\n",
       "      <td>Human health - non-cancer</td>\n",
       "      <td>CTUnoncancer</td>\n",
       "      <td>5.453839e-08</td>\n",
       "    </tr>\n",
       "    <tr>\n",
       "      <th>32</th>\n",
       "      <td>hydro_100</td>\n",
       "      <td>Human health - particulate matter</td>\n",
       "      <td>PM 2.5 eq</td>\n",
       "      <td>2.227837e-05</td>\n",
       "    </tr>\n",
       "    <tr>\n",
       "      <th>33</th>\n",
       "      <td>hydro_100</td>\n",
       "      <td>Eutrophication</td>\n",
       "      <td>kg N eq</td>\n",
       "      <td>3.813068e-06</td>\n",
       "    </tr>\n",
       "    <tr>\n",
       "      <th>34</th>\n",
       "      <td>hydro_100</td>\n",
       "      <td>Smog formation</td>\n",
       "      <td>kg O3 eq</td>\n",
       "      <td>1.217333e-03</td>\n",
       "    </tr>\n",
       "    <tr>\n",
       "      <th>35</th>\n",
       "      <td>hydro_100</td>\n",
       "      <td>Global warming</td>\n",
       "      <td>kg CO2 eq</td>\n",
       "      <td>1.165566e-02</td>\n",
       "    </tr>\n",
       "    <tr>\n",
       "      <th>36</th>\n",
       "      <td>nuclear_100</td>\n",
       "      <td>Freshwater ecotoxicity</td>\n",
       "      <td>CTUeco</td>\n",
       "      <td>2.858788e+01</td>\n",
       "    </tr>\n",
       "    <tr>\n",
       "      <th>37</th>\n",
       "      <td>nuclear_100</td>\n",
       "      <td>Human health - cancer</td>\n",
       "      <td>CTUcancer</td>\n",
       "      <td>6.005724e-08</td>\n",
       "    </tr>\n",
       "    <tr>\n",
       "      <th>38</th>\n",
       "      <td>nuclear_100</td>\n",
       "      <td>Ozone depletion</td>\n",
       "      <td>kg CFC-11 eq</td>\n",
       "      <td>6.822785e-12</td>\n",
       "    </tr>\n",
       "    <tr>\n",
       "      <th>39</th>\n",
       "      <td>nuclear_100</td>\n",
       "      <td>Acidification</td>\n",
       "      <td>kg SO2 eq</td>\n",
       "      <td>5.658386e-05</td>\n",
       "    </tr>\n",
       "    <tr>\n",
       "      <th>40</th>\n",
       "      <td>nuclear_100</td>\n",
       "      <td>Human health - non-cancer</td>\n",
       "      <td>CTUnoncancer</td>\n",
       "      <td>1.122165e-05</td>\n",
       "    </tr>\n",
       "    <tr>\n",
       "      <th>41</th>\n",
       "      <td>nuclear_100</td>\n",
       "      <td>Human health - particulate matter</td>\n",
       "      <td>PM 2.5 eq</td>\n",
       "      <td>3.127875e-06</td>\n",
       "    </tr>\n",
       "    <tr>\n",
       "      <th>42</th>\n",
       "      <td>nuclear_100</td>\n",
       "      <td>Eutrophication</td>\n",
       "      <td>kg N eq</td>\n",
       "      <td>5.190663e-06</td>\n",
       "    </tr>\n",
       "    <tr>\n",
       "      <th>43</th>\n",
       "      <td>nuclear_100</td>\n",
       "      <td>Smog formation</td>\n",
       "      <td>kg O3 eq</td>\n",
       "      <td>4.905939e-04</td>\n",
       "    </tr>\n",
       "    <tr>\n",
       "      <th>44</th>\n",
       "      <td>nuclear_100</td>\n",
       "      <td>Global warming</td>\n",
       "      <td>kg CO2 eq</td>\n",
       "      <td>4.733344e-03</td>\n",
       "    </tr>\n",
       "  </tbody>\n",
       "</table>\n",
       "</div>"
      ],
      "text/plain": [
       "       scenario                    impact_category       refUnit        amount\n",
       "0      baseline             Freshwater ecotoxicity        CTUeco  6.930438e+00\n",
       "1      baseline              Human health - cancer     CTUcancer  1.458401e-08\n",
       "2      baseline                    Ozone depletion  kg CFC-11 eq  2.394570e-09\n",
       "3      baseline                      Acidification     kg SO2 eq  3.474103e-04\n",
       "4      baseline          Human health - non-cancer  CTUnoncancer  2.710992e-06\n",
       "5      baseline  Human health - particulate matter     PM 2.5 eq  2.884518e-05\n",
       "6      baseline                     Eutrophication       kg N eq  1.840132e-05\n",
       "7      baseline                     Smog formation      kg O3 eq  7.377510e-03\n",
       "8      baseline                     Global warming     kg CO2 eq  1.630662e-01\n",
       "9     solar_100             Freshwater ecotoxicity        CTUeco  1.420548e-01\n",
       "10    solar_100              Human health - cancer     CTUcancer  1.003624e-09\n",
       "11    solar_100                    Ozone depletion  kg CFC-11 eq  2.748375e-10\n",
       "12    solar_100                      Acidification     kg SO2 eq  5.105384e-04\n",
       "13    solar_100          Human health - non-cancer  CTUnoncancer  5.868043e-08\n",
       "14    solar_100  Human health - particulate matter     PM 2.5 eq  5.505334e-05\n",
       "15    solar_100                     Eutrophication       kg N eq  3.293617e-05\n",
       "16    solar_100                     Smog formation      kg O3 eq  1.333921e-03\n",
       "17    solar_100                     Global warming     kg CO2 eq  1.343577e-02\n",
       "18     wind_100             Freshwater ecotoxicity        CTUeco  1.365370e-01\n",
       "19     wind_100              Human health - cancer     CTUcancer  2.881444e-10\n",
       "20     wind_100                    Ozone depletion  kg CFC-11 eq  9.433369e-12\n",
       "21     wind_100                      Acidification     kg SO2 eq  2.177603e-05\n",
       "22     wind_100          Human health - non-cancer  CTUnoncancer  5.372646e-08\n",
       "23     wind_100  Human health - particulate matter     PM 2.5 eq  2.644123e-06\n",
       "24     wind_100                     Eutrophication       kg N eq  1.294095e-05\n",
       "25     wind_100                     Smog formation      kg O3 eq  2.650408e-04\n",
       "26     wind_100                     Global warming     kg CO2 eq  7.428685e-03\n",
       "27    hydro_100             Freshwater ecotoxicity        CTUeco  1.363515e-01\n",
       "28    hydro_100              Human health - cancer     CTUcancer  3.539446e-10\n",
       "29    hydro_100                    Ozone depletion  kg CFC-11 eq  9.038055e-12\n",
       "30    hydro_100                      Acidification     kg SO2 eq  5.755414e-05\n",
       "31    hydro_100          Human health - non-cancer  CTUnoncancer  5.453839e-08\n",
       "32    hydro_100  Human health - particulate matter     PM 2.5 eq  2.227837e-05\n",
       "33    hydro_100                     Eutrophication       kg N eq  3.813068e-06\n",
       "34    hydro_100                     Smog formation      kg O3 eq  1.217333e-03\n",
       "35    hydro_100                     Global warming     kg CO2 eq  1.165566e-02\n",
       "36  nuclear_100             Freshwater ecotoxicity        CTUeco  2.858788e+01\n",
       "37  nuclear_100              Human health - cancer     CTUcancer  6.005724e-08\n",
       "38  nuclear_100                    Ozone depletion  kg CFC-11 eq  6.822785e-12\n",
       "39  nuclear_100                      Acidification     kg SO2 eq  5.658386e-05\n",
       "40  nuclear_100          Human health - non-cancer  CTUnoncancer  1.122165e-05\n",
       "41  nuclear_100  Human health - particulate matter     PM 2.5 eq  3.127875e-06\n",
       "42  nuclear_100                     Eutrophication       kg N eq  5.190663e-06\n",
       "43  nuclear_100                     Smog formation      kg O3 eq  4.905939e-04\n",
       "44  nuclear_100                     Global warming     kg CO2 eq  4.733344e-03"
      ]
     },
     "execution_count": 22,
     "metadata": {},
     "output_type": "execute_result"
    }
   ],
   "source": [
    "# Put it all back together for a final df.\n",
    "final_results = pd.concat(\n",
    "    [results_df[[\"scenario\"]],\n",
    "     exploded_impacts_names,\n",
    "     exploded_values],\n",
    "    axis=1\n",
    ")\n",
    "final_results.rename(columns={\"name\": \"impact_category\"}, inplace=True)\n",
    "final_results"
   ]
  },
  {
   "cell_type": "markdown",
   "metadata": {},
   "source": [
    "Let's put this into a pivot table, so we can read across the rows to compare the baseline against the 100% clean energy scenarios."
   ]
  },
  {
   "cell_type": "code",
   "execution_count": 23,
   "metadata": {},
   "outputs": [],
   "source": [
    "units_map = final_results.groupby(by='impact_category').agg({'refUnit':'first'})"
   ]
  },
  {
   "cell_type": "code",
   "execution_count": 24,
   "metadata": {},
   "outputs": [],
   "source": [
    "final_pivot = final_results.pivot(\n",
    "    index=\"impact_category\",\n",
    "    columns=\"scenario\",\n",
    "    values=\"amount\"\n",
    ")"
   ]
  },
  {
   "cell_type": "code",
   "execution_count": 25,
   "metadata": {},
   "outputs": [],
   "source": [
    "final_pivot = final_pivot.merge(\n",
    "    units_map,\n",
    "    how='left',\n",
    "    right_index=True,\n",
    "    left_index=True\n",
    ")"
   ]
  },
  {
   "cell_type": "code",
   "execution_count": 26,
   "metadata": {
    "scrolled": true
   },
   "outputs": [
    {
     "data": {
      "text/html": [
       "<div>\n",
       "<style scoped>\n",
       "    .dataframe tbody tr th:only-of-type {\n",
       "        vertical-align: middle;\n",
       "    }\n",
       "\n",
       "    .dataframe tbody tr th {\n",
       "        vertical-align: top;\n",
       "    }\n",
       "\n",
       "    .dataframe thead th {\n",
       "        text-align: right;\n",
       "    }\n",
       "</style>\n",
       "<table border=\"1\" class=\"dataframe\">\n",
       "  <thead>\n",
       "    <tr style=\"text-align: right;\">\n",
       "      <th></th>\n",
       "      <th>baseline</th>\n",
       "      <th>hydro_100</th>\n",
       "      <th>nuclear_100</th>\n",
       "      <th>solar_100</th>\n",
       "      <th>wind_100</th>\n",
       "      <th>refUnit</th>\n",
       "    </tr>\n",
       "    <tr>\n",
       "      <th>impact_category</th>\n",
       "      <th></th>\n",
       "      <th></th>\n",
       "      <th></th>\n",
       "      <th></th>\n",
       "      <th></th>\n",
       "      <th></th>\n",
       "    </tr>\n",
       "  </thead>\n",
       "  <tbody>\n",
       "    <tr>\n",
       "      <th>Acidification</th>\n",
       "      <td>3.474103e-04</td>\n",
       "      <td>5.755414e-05</td>\n",
       "      <td>5.658386e-05</td>\n",
       "      <td>5.105384e-04</td>\n",
       "      <td>2.177603e-05</td>\n",
       "      <td>kg SO2 eq</td>\n",
       "    </tr>\n",
       "    <tr>\n",
       "      <th>Eutrophication</th>\n",
       "      <td>1.840132e-05</td>\n",
       "      <td>3.813068e-06</td>\n",
       "      <td>5.190663e-06</td>\n",
       "      <td>3.293617e-05</td>\n",
       "      <td>1.294095e-05</td>\n",
       "      <td>kg N eq</td>\n",
       "    </tr>\n",
       "    <tr>\n",
       "      <th>Freshwater ecotoxicity</th>\n",
       "      <td>6.930438e+00</td>\n",
       "      <td>1.363515e-01</td>\n",
       "      <td>2.858788e+01</td>\n",
       "      <td>1.420548e-01</td>\n",
       "      <td>1.365370e-01</td>\n",
       "      <td>CTUeco</td>\n",
       "    </tr>\n",
       "    <tr>\n",
       "      <th>Global warming</th>\n",
       "      <td>1.630662e-01</td>\n",
       "      <td>1.165566e-02</td>\n",
       "      <td>4.733344e-03</td>\n",
       "      <td>1.343577e-02</td>\n",
       "      <td>7.428685e-03</td>\n",
       "      <td>kg CO2 eq</td>\n",
       "    </tr>\n",
       "    <tr>\n",
       "      <th>Human health - cancer</th>\n",
       "      <td>1.458401e-08</td>\n",
       "      <td>3.539446e-10</td>\n",
       "      <td>6.005724e-08</td>\n",
       "      <td>1.003624e-09</td>\n",
       "      <td>2.881444e-10</td>\n",
       "      <td>CTUcancer</td>\n",
       "    </tr>\n",
       "    <tr>\n",
       "      <th>Human health - non-cancer</th>\n",
       "      <td>2.710992e-06</td>\n",
       "      <td>5.453839e-08</td>\n",
       "      <td>1.122165e-05</td>\n",
       "      <td>5.868043e-08</td>\n",
       "      <td>5.372646e-08</td>\n",
       "      <td>CTUnoncancer</td>\n",
       "    </tr>\n",
       "    <tr>\n",
       "      <th>Human health - particulate matter</th>\n",
       "      <td>2.884518e-05</td>\n",
       "      <td>2.227837e-05</td>\n",
       "      <td>3.127875e-06</td>\n",
       "      <td>5.505334e-05</td>\n",
       "      <td>2.644123e-06</td>\n",
       "      <td>PM 2.5 eq</td>\n",
       "    </tr>\n",
       "    <tr>\n",
       "      <th>Ozone depletion</th>\n",
       "      <td>2.394570e-09</td>\n",
       "      <td>9.038055e-12</td>\n",
       "      <td>6.822785e-12</td>\n",
       "      <td>2.748375e-10</td>\n",
       "      <td>9.433369e-12</td>\n",
       "      <td>kg CFC-11 eq</td>\n",
       "    </tr>\n",
       "    <tr>\n",
       "      <th>Smog formation</th>\n",
       "      <td>7.377510e-03</td>\n",
       "      <td>1.217333e-03</td>\n",
       "      <td>4.905939e-04</td>\n",
       "      <td>1.333921e-03</td>\n",
       "      <td>2.650408e-04</td>\n",
       "      <td>kg O3 eq</td>\n",
       "    </tr>\n",
       "  </tbody>\n",
       "</table>\n",
       "</div>"
      ],
      "text/plain": [
       "                                       baseline     hydro_100   nuclear_100  \\\n",
       "impact_category                                                               \n",
       "Acidification                      3.474103e-04  5.755414e-05  5.658386e-05   \n",
       "Eutrophication                     1.840132e-05  3.813068e-06  5.190663e-06   \n",
       "Freshwater ecotoxicity             6.930438e+00  1.363515e-01  2.858788e+01   \n",
       "Global warming                     1.630662e-01  1.165566e-02  4.733344e-03   \n",
       "Human health - cancer              1.458401e-08  3.539446e-10  6.005724e-08   \n",
       "Human health - non-cancer          2.710992e-06  5.453839e-08  1.122165e-05   \n",
       "Human health - particulate matter  2.884518e-05  2.227837e-05  3.127875e-06   \n",
       "Ozone depletion                    2.394570e-09  9.038055e-12  6.822785e-12   \n",
       "Smog formation                     7.377510e-03  1.217333e-03  4.905939e-04   \n",
       "\n",
       "                                      solar_100      wind_100       refUnit  \n",
       "impact_category                                                              \n",
       "Acidification                      5.105384e-04  2.177603e-05     kg SO2 eq  \n",
       "Eutrophication                     3.293617e-05  1.294095e-05       kg N eq  \n",
       "Freshwater ecotoxicity             1.420548e-01  1.365370e-01        CTUeco  \n",
       "Global warming                     1.343577e-02  7.428685e-03     kg CO2 eq  \n",
       "Human health - cancer              1.003624e-09  2.881444e-10     CTUcancer  \n",
       "Human health - non-cancer          5.868043e-08  5.372646e-08  CTUnoncancer  \n",
       "Human health - particulate matter  5.505334e-05  2.644123e-06     PM 2.5 eq  \n",
       "Ozone depletion                    2.748375e-10  9.433369e-12  kg CFC-11 eq  \n",
       "Smog formation                     1.333921e-03  2.650408e-04      kg O3 eq  "
      ]
     },
     "execution_count": 26,
     "metadata": {},
     "output_type": "execute_result"
    }
   ],
   "source": [
    "final_pivot"
   ]
  },
  {
   "cell_type": "code",
   "execution_count": 28,
   "metadata": {},
   "outputs": [],
   "source": [
    "final_pivot.to_csv(\"elci_2016_what-if.csv\", encoding=\"utf-8\")"
   ]
  },
  {
   "cell_type": "markdown",
   "metadata": {
    "jp-MarkdownHeadingCollapsed": true
   },
   "source": [
    "### Optional Inventories"
   ]
  },
  {
   "cell_type": "markdown",
   "metadata": {},
   "source": [
    "Define an output folder (e.g., the user's Desktop), output file name, and put it together into a valid file path. Save the final results to CSV encoded in UTF-8."
   ]
  },
  {
   "cell_type": "code",
   "execution_count": 63,
   "metadata": {},
   "outputs": [],
   "source": [
    "output_folder = os.path.join(os.path.expanduser(\"~\"), \"Desktop\")\n",
    "output_file = \"all_impacts.csv\"\n",
    "output_path = os.path.join(output_folder, output_file)\n",
    "if os.path.isfile(output_path):\n",
    "    print(\"Warning! Overwriting '%s'.\" % output_path)\n",
    "final_results.to_csv(output_path, encoding=\"utf-8\")"
   ]
  },
  {
   "cell_type": "markdown",
   "metadata": {},
   "source": [
    "Now, do the same thing for the inventory results."
   ]
  },
  {
   "cell_type": "code",
   "execution_count": 28,
   "metadata": {},
   "outputs": [
    {
     "data": {
      "text/html": [
       "<div>\n",
       "<style scoped>\n",
       "    .dataframe tbody tr th:only-of-type {\n",
       "        vertical-align: middle;\n",
       "    }\n",
       "\n",
       "    .dataframe tbody tr th {\n",
       "        vertical-align: top;\n",
       "    }\n",
       "\n",
       "    .dataframe thead th {\n",
       "        text-align: right;\n",
       "    }\n",
       "</style>\n",
       "<table border=\"1\" class=\"dataframe\">\n",
       "  <thead>\n",
       "    <tr style=\"text-align: right;\">\n",
       "      <th></th>\n",
       "      <th>@id</th>\n",
       "      <th>name</th>\n",
       "      <th>category</th>\n",
       "      <th>refUnit</th>\n",
       "    </tr>\n",
       "  </thead>\n",
       "  <tbody>\n",
       "    <tr>\n",
       "      <th>0</th>\n",
       "      <td>ce935bd2-3bbd-37fb-857b-79d8511c0fdc</td>\n",
       "      <td>Fluoride</td>\n",
       "      <td>Elementary flows/emission/ground</td>\n",
       "      <td>kg</td>\n",
       "    </tr>\n",
       "    <tr>\n",
       "      <th>1</th>\n",
       "      <td>c9949a1d-90fd-3ffc-84dc-13cb5185f0d1</td>\n",
       "      <td>Phenanthrene</td>\n",
       "      <td>Elementary flows/emission/ground</td>\n",
       "      <td>kg</td>\n",
       "    </tr>\n",
       "    <tr>\n",
       "      <th>2</th>\n",
       "      <td>3b2e2965-1c59-32f7-927a-d8a7cb6cefe1</td>\n",
       "      <td>Benzoyl chloride</td>\n",
       "      <td>Elementary flows/emission/air</td>\n",
       "      <td>kg</td>\n",
       "    </tr>\n",
       "    <tr>\n",
       "      <th>3</th>\n",
       "      <td>14019299-4013-3351-af2d-287fee154b97</td>\n",
       "      <td>Bicarbonate</td>\n",
       "      <td>Elementary flows/emission/water</td>\n",
       "      <td>kg</td>\n",
       "    </tr>\n",
       "    <tr>\n",
       "      <th>4</th>\n",
       "      <td>d58c0068-da31-3dfd-8017-8f1ebd577e7d</td>\n",
       "      <td>Propionic acid</td>\n",
       "      <td>Elementary flows/emission/air</td>\n",
       "      <td>kg</td>\n",
       "    </tr>\n",
       "  </tbody>\n",
       "</table>\n",
       "</div>"
      ],
      "text/plain": [
       "                                    @id              name  \\\n",
       "0  ce935bd2-3bbd-37fb-857b-79d8511c0fdc          Fluoride   \n",
       "1  c9949a1d-90fd-3ffc-84dc-13cb5185f0d1      Phenanthrene   \n",
       "2  3b2e2965-1c59-32f7-927a-d8a7cb6cefe1  Benzoyl chloride   \n",
       "3  14019299-4013-3351-af2d-287fee154b97       Bicarbonate   \n",
       "4  d58c0068-da31-3dfd-8017-8f1ebd577e7d    Propionic acid   \n",
       "\n",
       "                           category refUnit  \n",
       "0  Elementary flows/emission/ground      kg  \n",
       "1  Elementary flows/emission/ground      kg  \n",
       "2     Elementary flows/emission/air      kg  \n",
       "3   Elementary flows/emission/water      kg  \n",
       "4     Elementary flows/emission/air      kg  "
      ]
     },
     "execution_count": 28,
     "metadata": {},
     "output_type": "execute_result"
    }
   ],
   "source": [
    "exploded_inventories_names = inv_results_df.loc[:, 'inv_result_dict'].apply(\n",
    "    pd.Series)[\"enviFlow\"].apply(\n",
    "        pd.Series)['flow'].apply(\n",
    "            pd.Series)[[\"@id\",\"name\",\"category\",\"refUnit\"]]\n",
    "exploded_inventories_names.head()"
   ]
  },
  {
   "cell_type": "code",
   "execution_count": 29,
   "metadata": {},
   "outputs": [
    {
     "data": {
      "text/plain": [
       "0    2.237535e-34\n",
       "1    2.475034e-35\n",
       "2    0.000000e+00\n",
       "3    0.000000e+00\n",
       "4    1.557280e-38\n",
       "Name: amount, dtype: float64"
      ]
     },
     "execution_count": 29,
     "metadata": {},
     "output_type": "execute_result"
    }
   ],
   "source": [
    "exploded_values = inv_results_df.loc[:, 'inv_result_dict'].apply(pd.Series)[\"amount\"]\n",
    "exploded_values.head()"
   ]
  },
  {
   "cell_type": "code",
   "execution_count": 30,
   "metadata": {},
   "outputs": [
    {
     "data": {
      "text/html": [
       "<div>\n",
       "<style scoped>\n",
       "    .dataframe tbody tr th:only-of-type {\n",
       "        vertical-align: middle;\n",
       "    }\n",
       "\n",
       "    .dataframe tbody tr th {\n",
       "        vertical-align: top;\n",
       "    }\n",
       "\n",
       "    .dataframe thead th {\n",
       "        text-align: right;\n",
       "    }\n",
       "</style>\n",
       "<table border=\"1\" class=\"dataframe\">\n",
       "  <thead>\n",
       "    <tr style=\"text-align: right;\">\n",
       "      <th></th>\n",
       "      <th>product_system</th>\n",
       "      <th>@id</th>\n",
       "      <th>name</th>\n",
       "      <th>category</th>\n",
       "      <th>refUnit</th>\n",
       "      <th>amount</th>\n",
       "    </tr>\n",
       "  </thead>\n",
       "  <tbody>\n",
       "    <tr>\n",
       "      <th>0</th>\n",
       "      <td>Electricity - BIOMASS - Duke Energy Carolinas</td>\n",
       "      <td>ce935bd2-3bbd-37fb-857b-79d8511c0fdc</td>\n",
       "      <td>Fluoride</td>\n",
       "      <td>Elementary flows/emission/ground</td>\n",
       "      <td>kg</td>\n",
       "      <td>2.237535e-34</td>\n",
       "    </tr>\n",
       "    <tr>\n",
       "      <th>1</th>\n",
       "      <td>Electricity - BIOMASS - Duke Energy Carolinas</td>\n",
       "      <td>c9949a1d-90fd-3ffc-84dc-13cb5185f0d1</td>\n",
       "      <td>Phenanthrene</td>\n",
       "      <td>Elementary flows/emission/ground</td>\n",
       "      <td>kg</td>\n",
       "      <td>2.475034e-35</td>\n",
       "    </tr>\n",
       "    <tr>\n",
       "      <th>2</th>\n",
       "      <td>Electricity - BIOMASS - Duke Energy Carolinas</td>\n",
       "      <td>3b2e2965-1c59-32f7-927a-d8a7cb6cefe1</td>\n",
       "      <td>Benzoyl chloride</td>\n",
       "      <td>Elementary flows/emission/air</td>\n",
       "      <td>kg</td>\n",
       "      <td>0.000000e+00</td>\n",
       "    </tr>\n",
       "    <tr>\n",
       "      <th>3</th>\n",
       "      <td>Electricity - BIOMASS - Duke Energy Carolinas</td>\n",
       "      <td>14019299-4013-3351-af2d-287fee154b97</td>\n",
       "      <td>Bicarbonate</td>\n",
       "      <td>Elementary flows/emission/water</td>\n",
       "      <td>kg</td>\n",
       "      <td>0.000000e+00</td>\n",
       "    </tr>\n",
       "    <tr>\n",
       "      <th>4</th>\n",
       "      <td>Electricity - BIOMASS - Duke Energy Carolinas</td>\n",
       "      <td>d58c0068-da31-3dfd-8017-8f1ebd577e7d</td>\n",
       "      <td>Propionic acid</td>\n",
       "      <td>Elementary flows/emission/air</td>\n",
       "      <td>kg</td>\n",
       "      <td>1.557280e-38</td>\n",
       "    </tr>\n",
       "    <tr>\n",
       "      <th>...</th>\n",
       "      <td>...</td>\n",
       "      <td>...</td>\n",
       "      <td>...</td>\n",
       "      <td>...</td>\n",
       "      <td>...</td>\n",
       "      <td>...</td>\n",
       "    </tr>\n",
       "    <tr>\n",
       "      <th>2121</th>\n",
       "      <td>Electricity - BIOMASS - Duke Energy Carolinas</td>\n",
       "      <td>63aa7572-7b02-788e-2975-4d89e2ff46ab</td>\n",
       "      <td>polyvinyl chloride (PVC)</td>\n",
       "      <td>Technosphere Flows/31-33: Manufacturing/3261: ...</td>\n",
       "      <td>kg</td>\n",
       "      <td>0.000000e+00</td>\n",
       "    </tr>\n",
       "    <tr>\n",
       "      <th>2122</th>\n",
       "      <td>Electricity - BIOMASS - Duke Energy Carolinas</td>\n",
       "      <td>e344d353-61b8-3be6-a2a5-fd5ee93d8a89</td>\n",
       "      <td>Coal, bituminous</td>\n",
       "      <td>Elementary flows/resource/ground</td>\n",
       "      <td>MJ</td>\n",
       "      <td>0.000000e+00</td>\n",
       "    </tr>\n",
       "    <tr>\n",
       "      <th>2123</th>\n",
       "      <td>Electricity - BIOMASS - Duke Energy Carolinas</td>\n",
       "      <td>1411e604-8b19-66ec-2a92-cf833c5014cc</td>\n",
       "      <td>zinc</td>\n",
       "      <td>Technosphere Flows/31-33: Manufacturing/3314: ...</td>\n",
       "      <td>kg</td>\n",
       "      <td>0.000000e+00</td>\n",
       "    </tr>\n",
       "    <tr>\n",
       "      <th>2124</th>\n",
       "      <td>Electricity - BIOMASS - Duke Energy Carolinas</td>\n",
       "      <td>6d97498f-4d83-05ef-604c-1be6198e2795</td>\n",
       "      <td>asphalt</td>\n",
       "      <td>Technosphere Flows/31-33: Manufacturing/3241: ...</td>\n",
       "      <td>kg</td>\n",
       "      <td>0.000000e+00</td>\n",
       "    </tr>\n",
       "    <tr>\n",
       "      <th>2125</th>\n",
       "      <td>Electricity - BIOMASS - Duke Energy Carolinas</td>\n",
       "      <td>01b6fa09-0567-603e-009d-29e6876d9b1a</td>\n",
       "      <td>rubber, styrene-butadiene</td>\n",
       "      <td>Technosphere Flows/31-33: Manufacturing/3262: ...</td>\n",
       "      <td>kg</td>\n",
       "      <td>0.000000e+00</td>\n",
       "    </tr>\n",
       "  </tbody>\n",
       "</table>\n",
       "<p>2126 rows × 6 columns</p>\n",
       "</div>"
      ],
      "text/plain": [
       "                                     product_system  \\\n",
       "0     Electricity - BIOMASS - Duke Energy Carolinas   \n",
       "1     Electricity - BIOMASS - Duke Energy Carolinas   \n",
       "2     Electricity - BIOMASS - Duke Energy Carolinas   \n",
       "3     Electricity - BIOMASS - Duke Energy Carolinas   \n",
       "4     Electricity - BIOMASS - Duke Energy Carolinas   \n",
       "...                                             ...   \n",
       "2121  Electricity - BIOMASS - Duke Energy Carolinas   \n",
       "2122  Electricity - BIOMASS - Duke Energy Carolinas   \n",
       "2123  Electricity - BIOMASS - Duke Energy Carolinas   \n",
       "2124  Electricity - BIOMASS - Duke Energy Carolinas   \n",
       "2125  Electricity - BIOMASS - Duke Energy Carolinas   \n",
       "\n",
       "                                       @id                       name  \\\n",
       "0     ce935bd2-3bbd-37fb-857b-79d8511c0fdc                   Fluoride   \n",
       "1     c9949a1d-90fd-3ffc-84dc-13cb5185f0d1               Phenanthrene   \n",
       "2     3b2e2965-1c59-32f7-927a-d8a7cb6cefe1           Benzoyl chloride   \n",
       "3     14019299-4013-3351-af2d-287fee154b97                Bicarbonate   \n",
       "4     d58c0068-da31-3dfd-8017-8f1ebd577e7d             Propionic acid   \n",
       "...                                    ...                        ...   \n",
       "2121  63aa7572-7b02-788e-2975-4d89e2ff46ab   polyvinyl chloride (PVC)   \n",
       "2122  e344d353-61b8-3be6-a2a5-fd5ee93d8a89           Coal, bituminous   \n",
       "2123  1411e604-8b19-66ec-2a92-cf833c5014cc                       zinc   \n",
       "2124  6d97498f-4d83-05ef-604c-1be6198e2795                    asphalt   \n",
       "2125  01b6fa09-0567-603e-009d-29e6876d9b1a  rubber, styrene-butadiene   \n",
       "\n",
       "                                               category refUnit        amount  \n",
       "0                      Elementary flows/emission/ground      kg  2.237535e-34  \n",
       "1                      Elementary flows/emission/ground      kg  2.475034e-35  \n",
       "2                         Elementary flows/emission/air      kg  0.000000e+00  \n",
       "3                       Elementary flows/emission/water      kg  0.000000e+00  \n",
       "4                         Elementary flows/emission/air      kg  1.557280e-38  \n",
       "...                                                 ...     ...           ...  \n",
       "2121  Technosphere Flows/31-33: Manufacturing/3261: ...      kg  0.000000e+00  \n",
       "2122                   Elementary flows/resource/ground      MJ  0.000000e+00  \n",
       "2123  Technosphere Flows/31-33: Manufacturing/3314: ...      kg  0.000000e+00  \n",
       "2124  Technosphere Flows/31-33: Manufacturing/3241: ...      kg  0.000000e+00  \n",
       "2125  Technosphere Flows/31-33: Manufacturing/3262: ...      kg  0.000000e+00  \n",
       "\n",
       "[2126 rows x 6 columns]"
      ]
     },
     "execution_count": 30,
     "metadata": {},
     "output_type": "execute_result"
    }
   ],
   "source": [
    "final_inv_results = pd.concat(\n",
    "    [inv_results_df[[\"product_system\"]],\n",
    "     exploded_inventories_names,\n",
    "     exploded_values],\n",
    "    axis=1\n",
    ")\n",
    "final_inv_results"
   ]
  },
  {
   "cell_type": "markdown",
   "metadata": {},
   "source": [
    "Define the output file name and (using the previously defined output folder), create a valid file path for saving the inventory results to CSV (encoded in UTF-8)."
   ]
  },
  {
   "cell_type": "code",
   "execution_count": null,
   "metadata": {},
   "outputs": [],
   "source": [
    "out_file = \"all_inventories\"\n",
    "out_path = os.path.join(output_folder, out_file)\n",
    "if os.path.isfile(out_path):\n",
    "    print(\"Warning! Overwriting '%s'.\" % out_path)\n",
    "final_inv_results.to_csv(out_path, encoding=\"utf-8\")"
   ]
  },
  {
   "cell_type": "markdown",
   "metadata": {},
   "source": [
    "Finally, we can generate a graph of the results to maybe help pick out problems\n",
    " or outliers."
   ]
  },
  {
   "cell_type": "code",
   "execution_count": 32,
   "metadata": {},
   "outputs": [],
   "source": [
    "#Let's look at GWP!\n",
    "my_cat = \"Global Warming Potential [100 yr] - TRACI 2.1 (NETL)\"\n",
    "final_results_gwp = final_results.loc[\n",
    "    final_results[\"impact_category\"] == my_cat, :\n",
    "    ].sort_values(by=[\"amount\"], ascending=False)"
   ]
  },
  {
   "cell_type": "code",
   "execution_count": 33,
   "metadata": {},
   "outputs": [
    {
     "data": {
      "text/plain": [
       "<Axes: xlabel='product_system'>"
      ]
     },
     "execution_count": 33,
     "metadata": {},
     "output_type": "execute_result"
    },
    {
     "data": {
      "image/png": "[encoded data removed]",
      "text/plain": [
       "<Figure size 10000x500 with 1 Axes>"
      ]
     },
     "metadata": {},
     "output_type": "display_data"
    }
   ],
   "source": [
    "plt.rcParams['figure.figsize']=[100,5]\n",
    "final_results_gwp.plot(kind='bar',x=\"product_system\",y=\"amount\",legend=False)"
   ]
  },
  {
   "cell_type": "markdown",
   "metadata": {},
   "source": [
    "Documentation says we should do this. This will clear the results in openLCA.\n",
    "Make sure you've got all you needed"
   ]
  },
  {
   "cell_type": "markdown",
   "metadata": {},
   "source": [
    "Lastly, save the GWP impact data to its own CSV file."
   ]
  },
  {
   "cell_type": "code",
   "execution_count": 90,
   "metadata": {},
   "outputs": [],
   "source": [
    "gwp_file = \"all_techs_gwp.csv\"\n",
    "gwp_path = os.path.join(output_folder, gwp_file)\n",
    "if os.path.isfile(gwp_path):\n",
    "    print(\"Warning! Overwriting '%s'\" % gwp_path)\n",
    "final_results_gwp.to_csv(gwp_path, encoding=\"utf-8\")"
   ]
  },
  {
   "cell_type": "markdown",
   "metadata": {},
   "source": [
    "### End Step"
   ]
  },
  {
   "cell_type": "code",
   "execution_count": 27,
   "metadata": {},
   "outputs": [],
   "source": [
    "for res in results.values():\n",
    "    res.dispose()"
   ]
  }
 ],
 "metadata": {
  "kernelspec": {
   "display_name": "Python 3 (ipykernel)",
   "language": "python",
   "name": "python3"
  },
  "language_info": {
   "codemirror_mode": {
    "name": "ipython",
    "version": 3
   },
   "file_extension": ".py",
   "mimetype": "text/x-python",
   "name": "python",
   "nbconvert_exporter": "python",
   "pygments_lexer": "ipython3",
   "version": "3.11.7"
  }
 },
 "nbformat": 4,
 "nbformat_minor": 4
}
